{
 "cells": [
  {
   "cell_type": "code",
   "execution_count": 410,
   "id": "fa08b94a",
   "metadata": {},
   "outputs": [],
   "source": [
    "from scipy.stats import wilcoxon\n",
    "import pandas as pd"
   ]
  },
  {
   "cell_type": "code",
   "execution_count": 464,
   "id": "5d17dd59",
   "metadata": {},
   "outputs": [],
   "source": [
    "#BENCHMARK\n",
    "FILE_BENCHMARK = 'output/results_1_basic.csv'\n",
    "FILE_SEMANTIC_ENRICHED_METADATA = 'output/results_1_basic_semantics.csv'\n",
    "FILE_SEMANTIC_ENRICHED_METADATA_99 = 'output/results_1_basic_semantics_s99.csv'\n",
    "FILE_COLNAME_ENRICHED_METADATA = 'output/results_1_basic_colnames.csv'"
   ]
  },
  {
   "cell_type": "code",
   "execution_count": 465,
   "id": "4d4dd5b8",
   "metadata": {},
   "outputs": [],
   "source": [
    "#POOR\n",
    "FILE_TITLE_ONLY = 'output/results_1_title_only.csv'\n",
    "FILE_SEMANTIC_ENRICHED_TITLE = 'output/results_1_deprived_semantics.csv'\n",
    "FILE_SEMANTIC_ENRICHED_TITLE_98 = 'output/results_1_deprived_semantics_s98.csv'"
   ]
  },
  {
   "cell_type": "code",
   "execution_count": 466,
   "id": "c5ae7d44",
   "metadata": {},
   "outputs": [],
   "source": [
    "#RICH"
   ]
  },
  {
   "cell_type": "code",
   "execution_count": 487,
   "id": "c6137c80",
   "metadata": {},
   "outputs": [
    {
     "name": "stdout",
     "output_type": "stream",
     "text": [
      "169\n",
      "169\n"
     ]
    }
   ],
   "source": [
    "base = pd.read_csv(FILE_TITLE_ONLY)\n",
    "new = pd.read_csv(FILE_SEMANTIC_ENRICHED_TITLE_98)\n",
    "\n",
    "base.sort_values(by='query_id', inplace=True)\n",
    "new.sort_values(by='query_id', inplace=True)\n",
    "\n",
    "print(len(base))\n",
    "print(len(new))"
   ]
  },
  {
   "cell_type": "code",
   "execution_count": 488,
   "id": "cf157903",
   "metadata": {},
   "outputs": [],
   "source": [
    "METRIC_NAME = 'nDCG@10'\n",
    "METRIC_NAME = 'nDCG@50'\n",
    "# METRIC_NAME = 'p@10'\n",
    "# METRIC_NAME = 'p@50'\n",
    "# METRIC_NAME = 'r@10'\n",
    "# METRIC_NAME = 'r@50'"
   ]
  },
  {
   "cell_type": "code",
   "execution_count": 489,
   "id": "90cce6b8",
   "metadata": {},
   "outputs": [
    {
     "data": {
      "text/plain": [
       "0    0.000000\n",
       "1    0.410221\n",
       "2    0.000000\n",
       "3    0.039955\n",
       "4    0.324011\n",
       "Name: nDCG@50, dtype: float64"
      ]
     },
     "execution_count": 489,
     "metadata": {},
     "output_type": "execute_result"
    }
   ],
   "source": [
    "base_values = base[METRIC_NAME]\n",
    "new_values = new[METRIC_NAME]\n",
    "base_values[:5]"
   ]
  },
  {
   "cell_type": "code",
   "execution_count": 490,
   "id": "4511f9dc",
   "metadata": {},
   "outputs": [
    {
     "data": {
      "text/plain": [
       "11    -0.000435\n",
       "21     0.078192\n",
       "41    -0.001944\n",
       "48    -0.011577\n",
       "84     0.031239\n",
       "118   -0.003212\n",
       "123   -0.001551\n",
       "131   -0.084786\n",
       "153    0.108581\n",
       "Name: nDCG@50, dtype: float64"
      ]
     },
     "execution_count": 490,
     "metadata": {},
     "output_type": "execute_result"
    }
   ],
   "source": [
    "diff_values = new_values - base_values\n",
    "diff_values[diff_values!=0.0]"
   ]
  },
  {
   "cell_type": "code",
   "execution_count": 491,
   "id": "8f150810",
   "metadata": {},
   "outputs": [
    {
     "data": {
      "text/plain": [
       "(22.0, 0.9527650219907529)"
      ]
     },
     "execution_count": 491,
     "metadata": {},
     "output_type": "execute_result"
    }
   ],
   "source": [
    "w, p = wilcoxon(diff_values)\n",
    "w, p"
   ]
  },
  {
   "cell_type": "code",
   "execution_count": 492,
   "id": "8b19c6a6",
   "metadata": {},
   "outputs": [
    {
     "data": {
      "text/plain": [
       "(22.0, 0.5236174890046236)"
      ]
     },
     "execution_count": 492,
     "metadata": {},
     "output_type": "execute_result"
    }
   ],
   "source": [
    "w, p = wilcoxon(diff_values, alternative='greater')\n",
    "w, p"
   ]
  },
  {
   "cell_type": "markdown",
   "id": "4b02e798",
   "metadata": {},
   "source": [
    "h0 = semantic is worse than benchmark\n",
    "h1 = semantic is better than benchmark"
   ]
  },
  {
   "cell_type": "code",
   "execution_count": 480,
   "id": "935312db",
   "metadata": {},
   "outputs": [
    {
     "data": {
      "text/plain": [
       "(22.0, 0.47638251099537643)"
      ]
     },
     "execution_count": 480,
     "metadata": {},
     "output_type": "execute_result"
    }
   ],
   "source": [
    "w, p = wilcoxon(diff_values, alternative='less')\n",
    "w, p"
   ]
  },
  {
   "cell_type": "code",
   "execution_count": null,
   "id": "8dcfee44",
   "metadata": {},
   "outputs": [],
   "source": []
  },
  {
   "cell_type": "code",
   "execution_count": null,
   "id": "2ab647a6",
   "metadata": {},
   "outputs": [],
   "source": []
  }
 ],
 "metadata": {
  "kernelspec": {
   "display_name": "Python 3 (ipykernel)",
   "language": "python",
   "name": "python3"
  },
  "language_info": {
   "codemirror_mode": {
    "name": "ipython",
    "version": 3
   },
   "file_extension": ".py",
   "mimetype": "text/x-python",
   "name": "python",
   "nbconvert_exporter": "python",
   "pygments_lexer": "ipython3",
   "version": "3.9.7"
  }
 },
 "nbformat": 4,
 "nbformat_minor": 5
}
