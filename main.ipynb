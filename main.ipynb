{
 "cells": [
  {
   "cell_type": "code",
   "execution_count": 169,
   "id": "b0dedd8d",
   "metadata": {},
   "outputs": [],
   "source": [
    "import os\n",
    "from functools import partial\n",
    "import csv\n",
    "import pandas as pd \n",
    "import matplotlib"
   ]
  },
  {
   "cell_type": "code",
   "execution_count": 1,
   "id": "7ec56ad9",
   "metadata": {},
   "outputs": [],
   "source": [
    "from elasticsearch import Elasticsearch\n",
    "es_client = Elasticsearch()"
   ]
  },
  {
   "cell_type": "code",
   "execution_count": 2,
   "id": "946270de",
   "metadata": {},
   "outputs": [],
   "source": [
    "es_client = Elasticsearch(\n",
    "    \"localhost:9200\",\n",
    "    http_auth=[\"elastic\", \"changeme\"],\n",
    ")"
   ]
  },
  {
   "cell_type": "code",
   "execution_count": 3,
   "id": "18ed99f9",
   "metadata": {},
   "outputs": [],
   "source": [
    "from elasticsearch.client import IndicesClient\n",
    "es_index_client = IndicesClient(es_client)"
   ]
  },
  {
   "cell_type": "code",
   "execution_count": 21,
   "id": "6dba034f",
   "metadata": {},
   "outputs": [],
   "source": [
    "# es_client.get(index=\"laptops-demo\", id=1, doc_type=\"test\")"
   ]
  },
  {
   "cell_type": "code",
   "execution_count": 75,
   "id": "c21d77c3",
   "metadata": {},
   "outputs": [],
   "source": [
    "# Retrieve search queries\n",
    "def read_queries(root_folder = \"./data/\"):\n",
    "    \"\"\"\n",
    "        Reads in the CACM queries. The dataset is assumed to be in the folder \"./datasets/\" by default\n",
    "        Returns: A list of 2-tuples: (query_id, query)\n",
    "    \"\"\"\n",
    "    queries = []\n",
    "    tsv_file = open(os.path.join(root_folder, \"data_search_2_e_train_topics.tsv\"))\n",
    "    read_tsv = csv.reader(tsv_file, delimiter=\"\\t\")\n",
    "\n",
    "    for row in read_tsv: queries.append((row[0], row[1]))\n",
    "    \n",
    "    tsv_file.close()\n",
    "    return queries\n"
   ]
  },
  {
   "cell_type": "code",
   "execution_count": 79,
   "id": "c5938af0",
   "metadata": {},
   "outputs": [],
   "source": [
    "#### Function check\n",
    "queries = read_queries()\n",
    "\n",
    "assert isinstance(queries, list)\n",
    "# print(queries)\n",
    "# assert len(queries) == 64 and all([q[1] is not None for q in queries]), \"There should be exactly 64 queries\"\n",
    "\n",
    "unzipped_queries = list(zip(*queries))\n",
    "# print(unzipped_queries)\n",
    "# assert np.sum(np.array(list(map(int,unzipped_queries[0])))) == 2080\n"
   ]
  },
  {
   "cell_type": "code",
   "execution_count": 305,
   "id": "c3f17513",
   "metadata": {},
   "outputs": [
    {
     "data": {
      "text/plain": [
       "('DS1-E-0001', 'oysters dislike east coast')"
      ]
     },
     "execution_count": 305,
     "metadata": {},
     "output_type": "execute_result"
    }
   ],
   "source": [
    "#### Function check\n",
    "test_query = queries[0]\n",
    "test_query"
   ]
  },
  {
   "cell_type": "code",
   "execution_count": 55,
   "id": "15fd6dab",
   "metadata": {},
   "outputs": [],
   "source": [
    "# This function returns the index name of the corresponding config\n",
    "def get_index(index_set):\n",
    "    assert index_set in {1, 2}\n",
    "    return {\n",
    "        1: 'metadata_datagov',\n",
    "        2: 'semantic_datagov'\n",
    "    }[index_set]"
   ]
  },
  {
   "cell_type": "code",
   "execution_count": 268,
   "id": "ff844699",
   "metadata": {},
   "outputs": [],
   "source": [
    "# Search Function\n",
    "def es_search(query, index_set):\n",
    "    \"\"\"\n",
    "        Perform search over all documents with the given query.\n",
    "        Input: \n",
    "            query - a (unprocessed) query (here in ES, assume that ES handle the pre-processing)\n",
    "            index - the index to use\n",
    "        Output: a list of (document_id, score), sorted in descending relevance to the given query\n",
    "    \"\"\"\n",
    "    index = get_index(index_set)\n",
    "#     print('Index Name: {}'.format(index))\n",
    "    search_query = {\n",
    "        \"query\": {\n",
    "            \"multi_match\" : {\n",
    "                \"query\" : query,\n",
    "                \"fields\" : [\"title\", \"description\", \"attribution\"]\n",
    "            }\n",
    "        }\n",
    "    } \n",
    "    result = es_client.search(index=index, body=search_query, size=10)\n",
    "    output = [(doc['_source']['id'],doc['_score']) for doc in result['hits']['hits']]\n",
    "    \n",
    "#     print('query: {}'.format(query))\n",
    "#     print('N-results: {}'.format(len(output)))\n",
    "    return output"
   ]
  },
  {
   "cell_type": "code",
   "execution_count": 306,
   "id": "1f6f1902",
   "metadata": {},
   "outputs": [
    {
     "data": {
      "text/plain": [
       "[('fb95fd60-a933-4523-be63-3c6d4bf3195a', 15.126437),\n",
       " ('b02eacd3-21b8-488c-9c52-bcc771c04634', 14.4423065),\n",
       " ('e7ae2d31-a677-4f47-be2d-c4f27eeaec7b', 14.4423065),\n",
       " ('2026c52f-5a99-4a80-ae54-c0d0c13c5edd', 14.211657),\n",
       " ('c5dd52c8-c3d1-46cd-a421-58a14e667699', 13.815875),\n",
       " ('3650ba52-cd6e-4f1c-b19a-dc751bd14f73', 12.913653),\n",
       " ('0765cb66-57ca-4fa9-8ee1-9a6d46117878', 12.67821),\n",
       " ('59e45aff-d8d2-4484-a4a2-207d9b543e3e', 12.412935),\n",
       " ('574f759f-dd54-4874-a149-87b41c19a64c', 12.276823),\n",
       " ('32ad3d15-3877-4085-8908-d8948f267f81', 12.244997)]"
      ]
     },
     "execution_count": 306,
     "metadata": {},
     "output_type": "execute_result"
    }
   ],
   "source": [
    "#### Function check\n",
    "test_query = queries[0]\n",
    "test_result = es_search(test_query[1],1)\n",
    "test_result"
   ]
  },
  {
   "cell_type": "code",
   "execution_count": 270,
   "id": "0f716c5e",
   "metadata": {},
   "outputs": [],
   "source": [
    "# Prepare relevance document\n",
    "#Q: How to calculate a score out of relevance documents? Assume L0 ->0, L1->1, L2 -> 2\n",
    "#Q: Is it possible to have multiple judgment?\n",
    "\n",
    "def map_relevance_level(level):\n",
    "    assert level in {'L0', 'L1', 'L2'}\n",
    "    return {\n",
    "        'L0': float(0),\n",
    "        'L1': float(1),\n",
    "        'L2': float(2)\n",
    "    }[level]\n",
    "\n",
    "def read_qrels(root_folder = \"./data/\"):\n",
    "    \"\"\"\n",
    "        Reads the qrels.text file. \n",
    "        Output: A dictionary of dictionary: query_id -> [list of tuples (relevant documents -> true relevance)]\n",
    "    \"\"\"\n",
    "    relevant_docs = defaultdict(defaultdict)\n",
    "    txt_file = open(os.path.join(root_folder, \"data_search_2_e_train_qrels.txt\"))\n",
    "    read_txt = csv.reader(txt_file, delimiter=\" \")\n",
    "    \n",
    "    for row in read_txt: \n",
    "        score = map_relevance_level(row[2])\n",
    "        if (score>0):\n",
    "            relevant_docs[row[0]] = relevant_docs[row[0]]+[(row[1],score)] if row[0] in relevant_docs else [(row[1],score)]\n",
    "    \n",
    "    txt_file.close()\n",
    "    return relevant_docs\n"
   ]
  },
  {
   "cell_type": "code",
   "execution_count": 299,
   "id": "38171e40",
   "metadata": {},
   "outputs": [
    {
     "data": {
      "text/plain": [
       "[('32ad3d15-3877-4085-8908-d8948f267f81', 1.0),\n",
       " ('3650ba52-cd6e-4f1c-b19a-dc751bd14f73', 1.0),\n",
       " ('574f759f-dd54-4874-a149-87b41c19a64c', 1.0),\n",
       " ('b02eacd3-21b8-488c-9c52-bcc771c04634', 1.0),\n",
       " ('d20a2b9d-ae93-4b74-a921-d562b0639d0d', 2.0),\n",
       " ('e7ae2d31-a677-4f47-be2d-c4f27eeaec7b', 1.0),\n",
       " ('f29e8dcb-b7d8-4a17-a034-a563a8d89d23', 1.0),\n",
       " ('f4601f25-6237-47f5-98b5-bd56be35c02e', 1.0),\n",
       " ('fb95fd60-a933-4523-be63-3c6d4bf3195a', 1.0)]"
      ]
     },
     "execution_count": 299,
     "metadata": {},
     "output_type": "execute_result"
    }
   ],
   "source": [
    "#### Function check\n",
    "qrels = read_qrels()\n",
    "qrels[test_query[0]]"
   ]
  },
  {
   "cell_type": "code",
   "execution_count": 289,
   "id": "ba14bafa",
   "metadata": {},
   "outputs": [],
   "source": [
    "# Calculate nDCG score from single query\n",
    "from sklearn.metrics import ndcg_score\n",
    "import numpy as np\n",
    "from collections import defaultdict\n",
    "\n",
    "def ndcg_k(results, relevant_docs, k):\n",
    "    \"\"\"\n",
    "        Compute Normalised Discounted Cumulative Gain @k\n",
    "        Input: \n",
    "            results: A sorted list of 2-tuples (document_id, score), with the most relevant document in the first position\n",
    "            relevant_docs: A dictionary of relevant documents and its true relevance. #assume it is a single number\n",
    "            k: the cut-off\n",
    "        Output: nDCG@K\n",
    "    \"\"\"\n",
    "    if k > len(results):\n",
    "        k = len(results)\n",
    "    \n",
    "    true_relevance = [] # list of ground-truth relevance of a query:\n",
    "    doc_ids = list(zip(*relevant_docs))[0] # get list of relevant documents IDs [0], \n",
    "    doc_rels = list(zip(*relevant_docs))[1] # and list of relevant score [1]\n",
    "    \n",
    "#     print ('ids: {}'.format(results[0]))\n",
    "#     print ('rel: {}'.format(relevant_docs))\n",
    "    \n",
    "    for i in range(0,k):\n",
    "        if results[i][0] in doc_ids: #if document is relevant\n",
    "            i = doc_ids.index(results[i][0]) #get index of the relevance list\n",
    "            true_relevance += [doc_rels[i]] # [docs[2] [results[i][0]] \n",
    "        else:\n",
    "            true_relevance += [float(0)]\n",
    "        #Q: is it zero when there is no more relevance? what happen when there is less than k relevant docs?\n",
    "    \n",
    "    scores = list(list(zip(*results))[1])[:k] # predicted scores (relevance) for the answers\n",
    "    #Q: does scores need to be normalised to the relevance 0~4?\n",
    "    print ('true_rel: {}'.format(true_relevance))\n",
    "    print ('score: {}'.format(scores))\n",
    "    return ndcg_score([true_relevance], [scores], k=k)\n"
   ]
  },
  {
   "cell_type": "code",
   "execution_count": 301,
   "id": "b9e1c908",
   "metadata": {},
   "outputs": [
    {
     "name": "stdout",
     "output_type": "stream",
     "text": [
      "true_rel: [1.0, 1.0, 1.0, 0.0, 0.0, 1.0, 0.0, 0.0, 1.0, 1.0]\n",
      "score: [15.126437, 14.4423065, 14.4423065, 14.211657, 13.815875, 12.913653, 12.67821, 12.412935, 12.276823, 12.244997]\n"
     ]
    },
    {
     "data": {
      "text/plain": [
       "0.9311777582765319"
      ]
     },
     "execution_count": 301,
     "metadata": {},
     "output_type": "execute_result"
    }
   ],
   "source": [
    "#### Function check\n",
    "ndcg_k(test_result, qrels[test_query[0]], k=10)\n",
    "#Q: it is not possible to do k=1?"
   ]
  },
  {
   "cell_type": "markdown",
   "id": "238f4e7b",
   "metadata": {},
   "source": [
    "### Evaluate Search Methods"
   ]
  },
  {
   "cell_type": "code",
   "execution_count": 302,
   "id": "9d3cc26d",
   "metadata": {},
   "outputs": [],
   "source": [
    "#### metrics@k functions\n",
    "ndcg_at_5 = partial(ndcg_k, k=5)\n",
    "ndcg_at_10 = partial(ndcg_k, k=10)\n",
    "\n",
    "list_of_metrics = [\n",
    "    (\"nDCG@5\", ndcg_at_5),\n",
    "    (\"nDCG@10\", ndcg_at_10)]"
   ]
  },
  {
   "cell_type": "code",
   "execution_count": 303,
   "id": "68cafc07",
   "metadata": {},
   "outputs": [],
   "source": [
    "#### Evaluate a search function\n",
    "list_of_search_fns = [\n",
    "    (\"ElasticSearch\", es_search)\n",
    "]\n",
    "\n",
    "def evaluate_search_fn(search_fn, metric_fns, index_set=None):\n",
    "    # build a dict query_id -> query \n",
    "    queries_by_id = dict((q[0], q[1]) for q in queries)\n",
    "    \n",
    "    metrics = {}\n",
    "    for metric, metric_fn in metric_fns:\n",
    "        metrics[metric] = np.zeros(len(qrels), dtype=np.float32)\n",
    "    \n",
    "    for i, (query_id, relevant_docs) in enumerate(qrels.items()):\n",
    "        query = queries_by_id[query_id]\n",
    "        if index_set:\n",
    "            results = search_fn(query, index_set)\n",
    "        else:\n",
    "            results = bsearch_fn(query)\n",
    "        \n",
    "        for metric, metric_fn in metric_fns:\n",
    "            metrics[metric][i] = metric_fn(results, relevant_docs)\n",
    "\n",
    "    final_dict = {}\n",
    "    for metric, metric_vals in metrics.items():\n",
    "        final_dict[metric] = metric_vals.mean() #averaged for all queries\n",
    "    \n",
    "    return final_dict"
   ]
  },
  {
   "cell_type": "code",
   "execution_count": 287,
   "id": "c7fa97fe",
   "metadata": {
    "scrolled": true
   },
   "outputs": [],
   "source": [
    "result_dict1=defaultdict(float)\n",
    "for fn in list_of_search_fns:\n",
    "    result_dict1[fn[0]] = evaluate_search_fn(fn[1], list_of_metrics, 1).values()\n",
    "    \n",
    "result_df1 = pd.DataFrame.from_dict(result_dict1, \n",
    "                                   columns = ['nDCG@5','nDCG@10'],\n",
    "                                  orient='index')"
   ]
  },
  {
   "cell_type": "code",
   "execution_count": 304,
   "id": "85fd346f",
   "metadata": {},
   "outputs": [
    {
     "data": {
      "text/html": [
       "<div>\n",
       "<style scoped>\n",
       "    .dataframe tbody tr th:only-of-type {\n",
       "        vertical-align: middle;\n",
       "    }\n",
       "\n",
       "    .dataframe tbody tr th {\n",
       "        vertical-align: top;\n",
       "    }\n",
       "\n",
       "    .dataframe thead th {\n",
       "        text-align: right;\n",
       "    }\n",
       "</style>\n",
       "<table border=\"1\" class=\"dataframe\">\n",
       "  <thead>\n",
       "    <tr style=\"text-align: right;\">\n",
       "      <th></th>\n",
       "      <th>nDCG@5</th>\n",
       "      <th>nDCG@10</th>\n",
       "    </tr>\n",
       "  </thead>\n",
       "  <tbody>\n",
       "    <tr>\n",
       "      <th>ElasticSearch</th>\n",
       "      <td>0.467669</td>\n",
       "      <td>0.484056</td>\n",
       "    </tr>\n",
       "  </tbody>\n",
       "</table>\n",
       "</div>"
      ],
      "text/plain": [
       "                 nDCG@5   nDCG@10\n",
       "ElasticSearch  0.467669  0.484056"
      ]
     },
     "execution_count": 304,
     "metadata": {},
     "output_type": "execute_result"
    }
   ],
   "source": [
    "result_df1"
   ]
  },
  {
   "cell_type": "code",
   "execution_count": 283,
   "id": "6be5f1db",
   "metadata": {},
   "outputs": [
    {
     "data": {
      "image/png": "[encoded data removed]",
      "text/plain": [
       "<Figure size 288x288 with 1 Axes>"
      ]
     },
     "metadata": {
      "needs_background": "light"
     },
     "output_type": "display_data"
    }
   ],
   "source": [
    "import matplotlib\n",
    "# matplotlib.style.use('seaborn-whitegrid') \n",
    "ax = result_df1.transpose().plot.bar(rot=30, title='Evaluation of dataset search performance using effectiveness metrics=',\n",
    "                          xlabel='(Index Set 1: (Unprocessed) Metadata)', \n",
    "                                     figsize=(4,4), width=0.5)\n",
    "for p in ax.patches:\n",
    "    ax.annotate(\"%.2f\" % p.get_height(), (p.get_x() + p.get_width() / 2., p.get_height()), ha='center', va='center', xytext=(0, 10), textcoords='offset points', fontsize=8)\n",
    "\n",
    "# plt.savefig('IRplot1.png', dpi=300, bbox_inches = 'tight')"
   ]
  },
  {
   "cell_type": "code",
   "execution_count": 262,
   "id": "a1050cc0",
   "metadata": {
    "scrolled": true
   },
   "outputs": [],
   "source": [
    "# search_query = {\n",
    "#     \"query\": {\n",
    "#         \"multi_match\" : {\n",
    "#             \"query\" : \"National Wildlife\",\n",
    "#             \"fields\" : [\"title\", \"description\", \"attribution\"]\n",
    "#         }\n",
    "#     }\n",
    "# }\n",
    "# es_client.search(index=\"metadata_datagov\", body=search_query)"
   ]
  },
  {
   "cell_type": "code",
   "execution_count": null,
   "id": "966095e2",
   "metadata": {},
   "outputs": [],
   "source": []
  }
 ],
 "metadata": {
  "kernelspec": {
   "display_name": "Python 3",
   "language": "python",
   "name": "python3"
  },
  "language_info": {
   "codemirror_mode": {
    "name": "ipython",
    "version": 3
   },
   "file_extension": ".py",
   "mimetype": "text/x-python",
   "name": "python",
   "nbconvert_exporter": "python",
   "pygments_lexer": "ipython3",
   "version": "3.8.8"
  }
 },
 "nbformat": 4,
 "nbformat_minor": 5
}
