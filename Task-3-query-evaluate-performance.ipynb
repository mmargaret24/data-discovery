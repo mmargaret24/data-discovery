{
 "cells": [
  {
   "cell_type": "markdown",
   "id": "397a7fbb",
   "metadata": {},
   "source": [
    "# Query and Evaluate Performance\n",
    "\n",
    "This interactive notebook (see Task#3 of the workflow) performs:\n",
    "1. the import of datasets that are essential for querying and evaluation, such as: user query and relevant judgment;\n",
    "2. search of each query upon ElasticSearch index, where the enriched metadata are stored;\n",
    "3. evaluation of performance metrics for search effectiveness;\n",
    "4. the export of metrics' results to CSV\n",
    "5. test significant of change using Wilcoxon-signed-rank tests\n",
    "\n",
    "The query and evaluation can be customized for different:\n",
    "- indexes in ElasticSearch (i.e. the dataset) defined by \"INDEX_SET\"; \n",
    "- metrics (nDCG, precision and recall) defined by \"list_of_metrics\"; \n",
    "- group of fields included in the search (i.e. title, description) defined by \"FIELD_SET\".\n",
    "\n",
    "Search can be performed through three different ways:\n",
    "1. for a specified index (dataset), loop for all: metrics and group of fields.\n",
    "2. for a specified index and group of fields, calculate for all metrics.\n",
    "3. search one user query for a specified index, list of metrics and group of fields.\n",
    "\n",
    "Prerequisite:\n",
    "1. ElasticSearch installed. In this experiment, ElasticSearch (version 7.12.0) was deployed through the Docker (version 4.4.2).\n",
    "2. Metadata is ingested to ElasticSearch's Index database (See Notebook: Task-2-prepare-merge-ingest-data)\n",
    "3. User queries and relevant judgements were ready to be imported\n",
    "4. The experiment were conducted with Python 3.9.7\n",
    "\n",
    "#### More results and plots are documented in Google Sheets: https://docs.google.com/spreadsheets/d/1mmk3y15Qaq_xDIeSNB5_Oackawbeswes0AjoAvul3PE/edit?usp=sharing"
   ]
  },
  {
   "cell_type": "markdown",
   "id": "d4db766b",
   "metadata": {},
   "source": [
    "![Workflow for the experimental setup in leveraging column semantics for data discovery.](image/workflowv2.png \"Workflow\")"
   ]
  },
  {
   "cell_type": "markdown",
   "id": "3f0f82e0",
   "metadata": {},
   "source": [
    "## 1. Init"
   ]
  },
  {
   "cell_type": "code",
   "execution_count": 1,
   "id": "b0dedd8d",
   "metadata": {},
   "outputs": [],
   "source": [
    "# Import Libraries\n",
    "import os\n",
    "from functools import partial\n",
    "import csv\n",
    "import pandas as pd \n",
    "import matplotlib\n",
    "from collections import defaultdict\n",
    "import numpy as np\n",
    "import time\n"
   ]
  },
  {
   "cell_type": "markdown",
   "id": "342b637e",
   "metadata": {},
   "source": [
    "### Setup ElasticSearch"
   ]
  },
  {
   "cell_type": "code",
   "execution_count": 2,
   "id": "a3883ffa",
   "metadata": {},
   "outputs": [],
   "source": [
    "from elasticsearch import Elasticsearch\n",
    "es_client = Elasticsearch(\n",
    "    \"localhost:9200\",\n",
    "    http_auth=[\"elastic\", \"changeme\"],\n",
    ")"
   ]
  },
  {
   "cell_type": "code",
   "execution_count": 3,
   "id": "18ed99f9",
   "metadata": {},
   "outputs": [],
   "source": [
    "from elasticsearch.client import IndicesClient\n",
    "es_index_client = IndicesClient(es_client)"
   ]
  },
  {
   "cell_type": "markdown",
   "id": "96bb4d39",
   "metadata": {},
   "source": [
    "## 2. Read Queries"
   ]
  },
  {
   "cell_type": "markdown",
   "id": "920dfa3c",
   "metadata": {},
   "source": [
    "### Import User Queries"
   ]
  },
  {
   "cell_type": "code",
   "execution_count": 4,
   "id": "c21d77c3",
   "metadata": {},
   "outputs": [],
   "source": [
    "# Retrieve search queries\n",
    "def read_queries(root_folder = \"./data/\"):\n",
    "    \"\"\"\n",
    "        Reads queries in TSV format. The dataset is assumed to be in the folder \"./data/\" by default\n",
    "        Returns: A list of 2-tuples: (query_id, query)\n",
    "    \"\"\"\n",
    "    queries = []\n",
    "    tsv_file = open(os.path.join(root_folder, \"data_search_2_e_train_topics.tsv\"))\n",
    "    read_tsv = csv.reader(tsv_file, delimiter=\"\\t\")\n",
    "\n",
    "    for row in read_tsv: queries.append((row[0], row[1]))\n",
    "    \n",
    "    tsv_file.close()\n",
    "    return queries\n"
   ]
  },
  {
   "cell_type": "code",
   "execution_count": 5,
   "id": "c5938af0",
   "metadata": {},
   "outputs": [
    {
     "data": {
      "text/plain": [
       "[('DS1-E-0001', 'oysters dislike east coast'),\n",
       " ('DS1-E-0002',\n",
       "  'science students increasing humanities students decreasing data'),\n",
       " ('DS1-E-0003', 'road length over the years'),\n",
       " ('DS1-E-0004', 'domestic self salt rate'),\n",
       " ('DS1-E-0005', 'births by month')]"
      ]
     },
     "execution_count": 5,
     "metadata": {},
     "output_type": "execute_result"
    }
   ],
   "source": [
    "#### Function check\n",
    "queries = read_queries()\n",
    "queries[:5]\n"
   ]
  },
  {
   "cell_type": "code",
   "execution_count": 6,
   "id": "c3f17513",
   "metadata": {},
   "outputs": [
    {
     "data": {
      "text/plain": [
       "('DS1-E-0002',\n",
       " 'science students increasing humanities students decreasing data')"
      ]
     },
     "execution_count": 6,
     "metadata": {},
     "output_type": "execute_result"
    }
   ],
   "source": [
    "#### Function check\n",
    "test_query = queries[1]\n",
    "test_query\n"
   ]
  },
  {
   "cell_type": "markdown",
   "id": "332eca99",
   "metadata": {},
   "source": [
    "## 3. Define Methods for ElasticSearch (ES)"
   ]
  },
  {
   "cell_type": "code",
   "execution_count": 7,
   "id": "15fd6dab",
   "metadata": {},
   "outputs": [],
   "source": [
    "# This function returns the index name of the corresponding config\n",
    "def get_index(index_set):\n",
    "    \"\"\"\n",
    "        Map index_set to the index name represented in ElasticSearch's Index\n",
    "        Returns: index name \n",
    "    \"\"\"\n",
    "    assert index_set in {1, 2}\n",
    "    return {\n",
    "        1: 'datagov-all-csv-scores', # contains all metadata + enriched information with csv dataset\n",
    "        2: 'datagov-good-csv-scores' # datagov that only contains good quality of metadata remove Q1 and below in length of desc and attribution\n",
    "    }[index_set]\n"
   ]
  },
  {
   "cell_type": "code",
   "execution_count": 8,
   "id": "0ca820b5",
   "metadata": {},
   "outputs": [],
   "source": [
    "# This function returns the index name of the corresponding config\n",
    "def get_fields(field_set):\n",
    "    \"\"\"\n",
    "        Map field_set to the group of fields to be included in the search\n",
    "        Returns: group of fields \n",
    "    \"\"\"\n",
    "    return {\n",
    "        'basic': [\"title\", \"description\", \"attribution\", \"data_organization\", \"publisher\", \"tags\"] ,\n",
    "        'basic_semantics': [\"title\", \"description\", \"attribution\", \"data_organization\", \"publisher\", \"tags\", \"col_semantics\"] ,\n",
    "        'basic_semantics_s10': [\"title\", \"description\", \"attribution\", \"data_organization\", \"publisher\", \"tags\", \"col_semantics_s10\"] ,\n",
    "        'basic_semantics_s20': [\"title\", \"description\", \"attribution\", \"data_organization\", \"publisher\", \"tags\", \"col_semantics_s20\"] ,\n",
    "        'basic_semantics_s30': [\"title\", \"description\", \"attribution\", \"data_organization\", \"publisher\", \"tags\", \"col_semantics_s30\"] ,\n",
    "        'basic_semantics_s40': [\"title\", \"description\", \"attribution\", \"data_organization\", \"publisher\", \"tags\", \"col_semantics_s40\"] ,\n",
    "        'basic_semantics_s50': [\"title\", \"description\", \"attribution\", \"data_organization\", \"publisher\", \"tags\", \"col_semantics_s50\"] ,\n",
    "        'basic_semantics_s60': [\"title\", \"description\", \"attribution\", \"data_organization\", \"publisher\", \"tags\", \"col_semantics_s60\"] ,\n",
    "        'basic_semantics_s70': [\"title\", \"description\", \"attribution\", \"data_organization\", \"publisher\", \"tags\", \"col_semantics_s70\"] ,\n",
    "        'basic_semantics_s80': [\"title\", \"description\", \"attribution\", \"data_organization\", \"publisher\", \"tags\", \"col_semantics_s80\"] ,\n",
    "        'basic_semantics_s90': [\"title\", \"description\", \"attribution\", \"data_organization\", \"publisher\", \"tags\", \"col_semantics_s90\"] ,\n",
    "        'basic_semantics_s95': [\"title\", \"description\", \"attribution\", \"data_organization\", \"publisher\", \"tags\", \"col_semantics_s95\"] ,\n",
    "        'basic_semantics_s98': [\"title\", \"description\", \"attribution\", \"data_organization\", \"publisher\", \"tags\", \"col_semantics_s98\"] ,\n",
    "        'basic_semantics_s99': [\"title\", \"description\", \"attribution\", \"data_organization\", \"publisher\", \"tags\", \"col_semantics_s99\"] ,\n",
    "        'basic_colnames': [\"title\", \"description\", \"attribution\", \"data_organization\", \"publisher\", \"tags\", \"col_names\"] ,\n",
    "        'deprived_semantics': [\"title\", \"col_semantics\"] ,\n",
    "        'deprived_semantics_s10': [\"title\", \"col_semantics_s10\"] ,\n",
    "        'deprived_semantics_s20': [\"title\", \"col_semantics_s20\"] ,\n",
    "        'deprived_semantics_s30': [\"title\", \"col_semantics_s30\"] ,\n",
    "        'deprived_semantics_s40': [\"title\", \"col_semantics_s40\"] ,\n",
    "        'deprived_semantics_s50': [\"title\", \"col_semantics_s50\"] ,\n",
    "        'deprived_semantics_s60': [\"title\", \"col_semantics_s60\"] ,\n",
    "        'deprived_semantics_s70': [\"title\", \"col_semantics_s70\"] ,\n",
    "        'deprived_semantics_s80': [\"title\", \"col_semantics_s80\"] ,\n",
    "        'deprived_semantics_s90': [\"title\", \"col_semantics_s90\"] ,\n",
    "        'deprived_semantics_s95': [\"title\", \"col_semantics_s95\"] ,\n",
    "        'deprived_semantics_s98': [\"title\", \"col_semantics_s98\"] ,\n",
    "        'deprived_semantics_s99': [\"title\", \"col_semantics_s99\"] ,\n",
    "        'title_only': [\"title\"] ,\n",
    "        'semantic_only': [\"col_semantics\"],\n",
    "        'deprived_colnames': [\"title\", \"col_names\"] ,\n",
    "        'exclude_desc': [\"title\", \"attribution\", \"data_organization\", \"publisher\", \"tags\"] ,\n",
    "        'exclude_attr': [\"title\", \"description\", \"data_organization\", \"publisher\", \"tags\"] ,\n",
    "        'exclude_tags': [\"title\", \"description\", \"attribution\", \"data_organization\", \"publisher\"] \n",
    "    }[field_set]\n"
   ]
  },
  {
   "cell_type": "code",
   "execution_count": 9,
   "id": "ff844699",
   "metadata": {},
   "outputs": [],
   "source": [
    "# Search Function\n",
    "def es_search(query, index_set, field_set):\n",
    "    \"\"\"\n",
    "        Perform search over all documents with the given query.\n",
    "        Input: \n",
    "            query - a (unprocessed) query (here in ES, assume that ES handle the pre-processing)\n",
    "            index_set - the index to use\n",
    "            field_set - the group of fields to search on\n",
    "        Output: a list of (document_id, score), sorted in descending relevance to the given query\n",
    "    \"\"\"\n",
    "    index = get_index(index_set)\n",
    "    fields = get_fields(field_set)\n",
    "#     print('index: {}, fields: {}, query: {}'.format(index, fields, query))\n",
    "    search_query = {\n",
    "        \"query\": {\n",
    "            \"multi_match\" : {\n",
    "                \"query\" : query,\n",
    "                \"fields\" : fields \n",
    "            }\n",
    "        }\n",
    "    }\n",
    "    result = es_client.search(index=index, body=search_query, size=50) # Note: search result set at max 50\n",
    "    output = [(doc['_id'],doc['_score']) for doc in result['hits']['hits']]\n",
    "    time.sleep(0.01) # Sleep timer to avoid inaccurate results\n",
    "    \n",
    "    return output"
   ]
  },
  {
   "cell_type": "code",
   "execution_count": 10,
   "id": "1f6f1902",
   "metadata": {},
   "outputs": [
    {
     "data": {
      "text/plain": [
       "[('ac9c8c22-8e04-457c-a2a0-c07a7a2a50a2', 17.309746)]"
      ]
     },
     "execution_count": 10,
     "metadata": {},
     "output_type": "execute_result"
    }
   ],
   "source": [
    "#### Function check\n",
    "test_result = es_search(test_query[1],1, 'basic')\n",
    "test_result[:1]"
   ]
  },
  {
   "cell_type": "markdown",
   "id": "037c727d",
   "metadata": {},
   "source": [
    "## 4. Read Relevance Judgement"
   ]
  },
  {
   "cell_type": "code",
   "execution_count": 11,
   "id": "0f716c5e",
   "metadata": {},
   "outputs": [],
   "source": [
    "# Prepare relevance document\n",
    "\n",
    "def map_relevance_level(level):\n",
    "    \"\"\"\n",
    "        Map relevance level retrieved from NTCIR dataset to relevance score\n",
    "        Output: relevance score\n",
    "    \"\"\"\n",
    "    assert level in {'L0', 'L1', 'L2'}\n",
    "    return {\n",
    "        'L0': float(0),\n",
    "        'L1': float(1),\n",
    "        'L2': float(2)\n",
    "    }[level]\n",
    "\n",
    "def read_qrels(root_folder = \"./data/\"):\n",
    "    \"\"\"\n",
    "        Reads the qrels.text file for relevance judgment \n",
    "        Output: A dictionary of dictionary: query_id -> [list of tuples (relevant documents -> true relevance)]\n",
    "    \"\"\"\n",
    "    relevant_docs = defaultdict(defaultdict)\n",
    "    txt_file = open(os.path.join(root_folder, \"data_search_2_e_train_qrels.txt\"))\n",
    "    read_txt = csv.reader(txt_file, delimiter=\" \")\n",
    "    \n",
    "    for row in read_txt: \n",
    "        score = map_relevance_level(row[2])\n",
    "        if (score>0):\n",
    "            relevant_docs[row[0]] = relevant_docs[row[0]]+[(row[1],score)] if row[0] in relevant_docs else [(row[1],score)]\n",
    "    \n",
    "    txt_file.close()\n",
    "    return relevant_docs\n"
   ]
  },
  {
   "cell_type": "code",
   "execution_count": 12,
   "id": "38171e40",
   "metadata": {},
   "outputs": [
    {
     "data": {
      "text/plain": [
       "[('05f019e6-48a1-4e87-9c5e-61e920db2fb2', 1.0),\n",
       " ('06aede0a-6b2f-44f2-b8e6-20a0fba9460b', 1.0),\n",
       " ('0c3900b4-3b8e-4421-bf49-b21dc7f7a2a1', 1.0),\n",
       " ('32e8c902-4510-4a65-b7b9-5587281f2b24', 1.0),\n",
       " ('4390538d-a871-4187-99d8-348736cac6d8', 1.0),\n",
       " ('536ac4d3-4e3f-4fb4-95db-54eef3dedd3c', 1.0),\n",
       " ('683a1afb-4ed9-4d95-a496-9a85109f912f', 1.0),\n",
       " ('6a299299-d7fe-425d-805a-34819278a251', 1.0),\n",
       " ('6f61cf1a-ec44-49a3-8e00-c6123d7389ee', 1.0),\n",
       " ('74df254d-193e-4de7-aaf4-0d5f5b306e84', 1.0),\n",
       " ('86ed1fda-1602-40dc-aec0-e935eedbb6d0', 1.0),\n",
       " ('97acffe8-ecbe-4819-b802-24886c8a9f49', 1.0),\n",
       " ('aa3bf9f4-1832-4d27-b2e9-7b928546c339', 1.0),\n",
       " ('c219f4cf-30f4-4ca1-b3a6-7a55f5a95c52', 1.0),\n",
       " ('cfd9fb08-ac9e-4cf6-a894-6e5fefce1708', 1.0),\n",
       " ('f36a7c58-a3bf-4d4c-9478-922f53622a80', 1.0),\n",
       " ('ff5ec6cc-a621-49f6-911f-9f06b3a65916', 2.0)]"
      ]
     },
     "execution_count": 12,
     "metadata": {},
     "output_type": "execute_result"
    }
   ],
   "source": [
    "#### Function check\n",
    "qrels = read_qrels()\n",
    "qrels[test_query[0]]"
   ]
  },
  {
   "cell_type": "markdown",
   "id": "349d3677",
   "metadata": {},
   "source": [
    "## 5. Define Methods for Performance Evaluation"
   ]
  },
  {
   "cell_type": "code",
   "execution_count": 13,
   "id": "44bba3ed",
   "metadata": {},
   "outputs": [],
   "source": [
    "def dcg(rel, k):\n",
    "    \"\"\"\n",
    "        Calculate metric DCG of the given relevance (\"rel\") at @k\n",
    "        Output: An DCG score\n",
    "    \"\"\"\n",
    "    total_dcg=0\n",
    "    for i in range(0,k):\n",
    "        num = np.exp(rel[i]) - 1\n",
    "        denom = np.log2(i + 2)\n",
    "        total_dcg += num/denom\n",
    "    return total_dcg\n",
    "\n",
    "def ndcg(true, pred, k):\n",
    "    \"\"\"\n",
    "        Normalise DCG with the ideal DCG at @k\n",
    "        Output: A normalised NDCG\n",
    "    \"\"\"\n",
    "    if (dcg(true,k) < 0.01):\n",
    "        print ('pred_rel: {}'.format(pred))\n",
    "        print ('true_rel: {}'.format(true))\n",
    "        print ('ndcg: {}'.format(dcg(pred,k)/dcg(true,k)))\n",
    "        \n",
    "    return dcg(pred,k)/dcg(true,k)"
   ]
  },
  {
   "cell_type": "code",
   "execution_count": 14,
   "id": "2dd6c79e",
   "metadata": {},
   "outputs": [
    {
     "name": "stdout",
     "output_type": "stream",
     "text": [
      "9.737057996396432\n",
      "0.6647221489594827\n",
      "0.06826724758191728\n"
     ]
    }
   ],
   "source": [
    "# CHECK\n",
    "print(dcg([2,1,1,1,1], k=5))\n",
    "print(dcg([0,0,0,0,1], k=5))\n",
    "print(ndcg([2,1,1,1,1], [0,0,0,0,1], k=5))"
   ]
  },
  {
   "cell_type": "code",
   "execution_count": 15,
   "id": "ba14bafa",
   "metadata": {},
   "outputs": [],
   "source": [
    "def ndcg_k(results, relevant_docs, k):\n",
    "    \"\"\"\n",
    "        Compute Normalised Discounted Cumulative Gain @k for a single query\n",
    "        Input: \n",
    "            results: A sorted list of 2-tuples (document_id, score), with the most relevant document \n",
    "            in the first position\n",
    "            relevant_docs: A dictionary of relevant documents and its true relevance. \n",
    "            k: the cut-off\n",
    "        Output: nDCG@K\n",
    "    \"\"\"\n",
    "    if len(results) == 0:\n",
    "        return 0\n",
    "    \n",
    "    if k > len(results):\n",
    "        k = len(results)\n",
    "    \n",
    "    pred_relevance = [] # list of ground-truth relevance of a query:\n",
    "    doc_ids = list(zip(*relevant_docs))[0] # get list of relevant documents IDs [0], \n",
    "    doc_rels = list(zip(*relevant_docs))[1] # and list of relevant score [1]\n",
    "    \n",
    "    for i in range(0,k):\n",
    "        if results[i][0] in doc_ids: #if document is relevant\n",
    "            i = doc_ids.index(results[i][0]) # get index of the relevance list\n",
    "            pred_relevance += [doc_rels[i]] \n",
    "        else:\n",
    "            pred_relevance += [float(0)]\n",
    "    \n",
    "    scores = list(list(zip(*results))[1])[:k] # predicted scores (relevance) for the answers\n",
    "    true_relevance = np.pad(-np.sort(-np.asarray(doc_rels)),(0, max(0, len(scores) - len(doc_rels))), 'constant')[:k] # sort ideal relevance\n",
    "    result = ndcg(true_relevance, pred_relevance, k=k)\n",
    "    \n",
    "    return result\n"
   ]
  },
  {
   "cell_type": "code",
   "execution_count": 16,
   "id": "a060f5d0",
   "metadata": {},
   "outputs": [],
   "source": [
    "# precision = true_pos / all positive prediction\n",
    "def precision_k(results, relevant_docs, k):\n",
    "    \"\"\"\n",
    "        Calculate precision at @k with formula: true positive / all positive prediction\n",
    "        Input: \n",
    "            results: A sorted list of 2-tuples (document_id, score), with the most relevant document \n",
    "            in the first position\n",
    "            relevant_docs: A dictionary of relevant documents and its true relevance. \n",
    "            k: the cut-off\n",
    "        Output: p@k\n",
    "    \"\"\"\n",
    "    if len(results) == 0:\n",
    "        return 0.0\n",
    "    if k > len(results):\n",
    "        k = len(results)\n",
    "        \n",
    "    n_relevant_k=0\n",
    "    rel_docs_list = list(list(zip(*relevant_docs))[0])\n",
    "\n",
    "    for i in range(0,k):\n",
    "        if results[i][0] in rel_docs_list:\n",
    "            n_relevant_k += 1\n",
    "        \n",
    "    return n_relevant_k/k\n"
   ]
  },
  {
   "cell_type": "code",
   "execution_count": 17,
   "id": "058cdb7b",
   "metadata": {},
   "outputs": [],
   "source": [
    "# recall = true_pos / all relevant doc exist\n",
    "def recall_k(results, relevant_docs, k):\n",
    "    \"\"\"\n",
    "        Calculate recall at @k with formula: true positive / all relevant document @k\n",
    "        Input: \n",
    "            results: A sorted list of 2-tuples (document_id, score), with the most relevant document \n",
    "            in the first position\n",
    "            relevant_docs: A dictionary of relevant documents and its true relevance. \n",
    "            k: the cut-off\n",
    "        Output: r@k\n",
    "    \"\"\"\n",
    "    if len(results) == 0:\n",
    "        return 0.0\n",
    "    if k > len(results):\n",
    "        k = len(results)\n",
    "        \n",
    "    n_relevant_k=0\n",
    "    rel_docs_list = list(list(zip(*relevant_docs))[0])\n",
    "    \n",
    "    for i in range(0,k):\n",
    "        if results[i][0] in rel_docs_list:\n",
    "            n_relevant_k += 1\n",
    "    \n",
    "    return n_relevant_k / len(rel_docs_list)\n"
   ]
  },
  {
   "cell_type": "code",
   "execution_count": 18,
   "id": "b9e1c908",
   "metadata": {},
   "outputs": [
    {
     "name": "stdout",
     "output_type": "stream",
     "text": [
      "0.450703582577222\n",
      "0.5\n",
      "0.29411764705882354\n"
     ]
    }
   ],
   "source": [
    "#### Function check\n",
    "print(ndcg_k(test_result, qrels[test_query[0]], k=10))\n",
    "print(precision_k(test_result, qrels[test_query[0]], k=10))\n",
    "print(recall_k(test_result, qrels[test_query[0]], k=10))"
   ]
  },
  {
   "cell_type": "markdown",
   "id": "238f4e7b",
   "metadata": {},
   "source": [
    "### Define list of metrics"
   ]
  },
  {
   "cell_type": "code",
   "execution_count": 19,
   "id": "9d3cc26d",
   "metadata": {},
   "outputs": [],
   "source": [
    "#### metrics@k functions\n",
    "\n",
    "ndcg_at_5 = partial(ndcg_k, k=5)\n",
    "ndcg_at_10 = partial(ndcg_k, k=10)\n",
    "ndcg_at_50 = partial(ndcg_k, k=50)\n",
    "\n",
    "precision_at_5 = partial(precision_k, k=5)\n",
    "precision_at_10 = partial(precision_k, k=10)\n",
    "precision_at_50 = partial(precision_k, k=50)\n",
    "\n",
    "recall_at_5 = partial(recall_k, k=5)\n",
    "recall_at_10 = partial(recall_k, k=10)\n",
    "recall_at_50 = partial(recall_k, k=50)\n",
    "\n",
    "list_of_metrics = [\n",
    "    (\"nDCG@5\", ndcg_at_5),\n",
    "    (\"nDCG@10\", ndcg_at_10),\n",
    "    (\"nDCG@50\", ndcg_at_50),\n",
    "    (\"p@5\", precision_at_5),\n",
    "    (\"p@10\", precision_at_10),\n",
    "    (\"p@50\", precision_at_50),\n",
    "    (\"r@5\", recall_at_5),\n",
    "    (\"r@10\", recall_at_10),\n",
    "    (\"r@50\", recall_at_50),\n",
    "    ]\n"
   ]
  },
  {
   "cell_type": "code",
   "execution_count": 20,
   "id": "68cafc07",
   "metadata": {},
   "outputs": [],
   "source": [
    "#### Define list of search function. In this experiment, only ElasticSearch was implemented\n",
    "list_of_search_fns = [\n",
    "    (\"ElasticSearch\", es_search)\n",
    "]\n",
    "\n",
    "def evaluate_search_fn(search_fn, metric_fns, index_set, field_set):\n",
    "    \"\"\"\n",
    "        Evaluate performance based on the specified search function, list of metrics, index and fields.\n",
    "        Input: \n",
    "            search_fn: the search function, i.e. ElasticSearch\n",
    "            metric_fns: list of metrics to evaluate with\n",
    "            index_set: index name in ElasticSearch\n",
    "            field_set: group of fields to be included\n",
    "        Output: a list of dictionaries containing averaged metrics results, with query-level details such as: \n",
    "                metric scores, list of relevant documents and ES search scores\n",
    "    \"\"\"\n",
    "    # build a dict query_id -> query \n",
    "    queries_by_id = dict((q[0], q[1]) for q in queries)\n",
    "    \n",
    "    metrics = {}\n",
    "    for metric, metric_fn in metric_fns:\n",
    "        metrics[metric] = np.zeros(len(qrels), dtype=np.float32)\n",
    "\n",
    "    detailed_result = [] # to store output at query-doc level\n",
    "    for i, (query_id, relevant_docs) in enumerate(qrels.items()):\n",
    "        query = queries_by_id[query_id]\n",
    "        results = search_fn(query, index_set, field_set)\n",
    "        \n",
    "        for metric, metric_fn in metric_fns:\n",
    "            metrics[metric][i] = metric_fn(results, relevant_docs)\n",
    "    \n",
    "        detailed_result += [{'index_set': index_set, 'field_set': field_set\n",
    "                             , 'query_id': query_id, 'query': query\n",
    "                             , 'nDCG@5': metrics['nDCG@5'][i].mean()\n",
    "                             , 'nDCG@10': metrics['nDCG@10'][i].mean()\n",
    "                             , 'nDCG@50': metrics['nDCG@50'][i].mean()\n",
    "                             , 'p@5': metrics['p@5'][i].mean()\n",
    "                             , 'p@10': metrics['p@10'][i].mean()\n",
    "                             , 'p@50': metrics['p@50'][i].mean()\n",
    "                             , 'r@5': metrics['r@5'][i].mean()\n",
    "                             , 'r@10': metrics['r@10'][i].mean()\n",
    "                             , 'r@50': metrics['r@50'][i].mean()\n",
    "                             , 'result': [i[0] for i in results], 'search_score': [i[1] for i in results] \n",
    "                             , 'not_found':[j for j in relevant_docs if j[0] not in [i[0] for i in results]]\n",
    "                             , 'rel_docs': relevant_docs}]\n",
    "\n",
    "    final_dict = {}\n",
    "    for metric, metric_vals in metrics.items():\n",
    "        final_dict[metric] = metric_vals.mean() #averaged for all queries\n",
    "    \n",
    "    final_dict['result'] = detailed_result\n",
    "    return final_dict"
   ]
  },
  {
   "cell_type": "markdown",
   "id": "50aff996",
   "metadata": {},
   "source": [
    "## 6. Evaluate and Export"
   ]
  },
  {
   "cell_type": "code",
   "execution_count": 33,
   "id": "eddad32e",
   "metadata": {},
   "outputs": [],
   "source": [
    "# specify folder for output files\n",
    "DIR_OUTPUT = '/Users/mmargaret/Documents/[UVA] Thesis/data-discovery/output/'"
   ]
  },
  {
   "cell_type": "code",
   "execution_count": 34,
   "id": "d4a378a8",
   "metadata": {},
   "outputs": [],
   "source": [
    "# specify group of fields to be search upon\n",
    "FIELD_SET = ['basic','basic_semantics', \n",
    "        'basic_semantics_s10', 'basic_semantics_s20', 'basic_semantics_s30', 'basic_semantics_s40',\n",
    "        'basic_semantics_s50', 'basic_semantics_s60', 'basic_semantics_s70', 'basic_semantics_s80',\n",
    "        'basic_semantics_s90', 'basic_semantics_s95', 'basic_semantics_s98', 'basic_semantics_s99',\n",
    "        'basic_colnames',\n",
    "        'deprived_semantics',\n",
    "        'deprived_semantics_s10', 'deprived_semantics_s20', 'deprived_semantics_s30', 'deprived_semantics_s40',\n",
    "        'deprived_semantics_s50', 'deprived_semantics_s60', 'deprived_semantics_s70','deprived_semantics_s80',\n",
    "        'deprived_semantics_s90', 'deprived_semantics_s95', 'deprived_semantics_s98', 'deprived_semantics_s99',\n",
    "        'title_only','semantic_only',\n",
    "        'deprived_colnames',\n",
    "        'exclude_desc','exclude_attr', 'exclude_tags']\n"
   ]
  },
  {
   "cell_type": "markdown",
   "id": "a616a2f0",
   "metadata": {},
   "source": [
    "### Option 1 - loop and compute for the specified index, for:\n",
    "1. all field sets (i.e. semantic_only) in the list; \n",
    "2. all search types (only ElasticSearch in this study) in the list;\n",
    "3. all metrics in the list."
   ]
  },
  {
   "cell_type": "code",
   "execution_count": 35,
   "id": "786cbe74",
   "metadata": {},
   "outputs": [],
   "source": [
    "# Specify index set: 1: 'datagov-all-csv-scores', 2: 'datagov-good-csv-scores'.\n",
    "INDEX_SET = 1"
   ]
  },
  {
   "cell_type": "code",
   "execution_count": 36,
   "id": "4c4432e5",
   "metadata": {},
   "outputs": [
    {
     "name": "stdout",
     "output_type": "stream",
     "text": [
      "{'basic': {'nDCG@10': 0.1737252026796341, 'nDCG@50': 0.20833750069141388}}\n",
      "{'basic_semantics': {'nDCG@10': 0.17363108694553375, 'nDCG@50': 0.20823633670806885}}\n",
      "{'basic_semantics_s10': {'nDCG@10': 0.17363108694553375, 'nDCG@50': 0.20823633670806885}}\n",
      "{'basic_semantics_s20': {'nDCG@10': 0.17363108694553375, 'nDCG@50': 0.2082354724407196}}\n",
      "{'basic_semantics_s30': {'nDCG@10': 0.17363108694553375, 'nDCG@50': 0.20823152363300323}}\n",
      "{'basic_semantics_s40': {'nDCG@10': 0.17363108694553375, 'nDCG@50': 0.20822687447071075}}\n",
      "{'basic_semantics_s50': {'nDCG@10': 0.1737252026796341, 'nDCG@50': 0.2083210051059723}}\n",
      "{'basic_semantics_s60': {'nDCG@10': 0.17363108694553375, 'nDCG@50': 0.20822511613368988}}\n",
      "{'basic_semantics_s70': {'nDCG@10': 0.1737252026796341, 'nDCG@50': 0.20832233130931854}}\n",
      "{'basic_semantics_s80': {'nDCG@10': 0.1737252026796341, 'nDCG@50': 0.20831872522830963}}\n",
      "{'basic_semantics_s90': {'nDCG@10': 0.1737252026796341, 'nDCG@50': 0.20831817388534546}}\n",
      "{'basic_semantics_s95': {'nDCG@10': 0.1737252026796341, 'nDCG@50': 0.20831817388534546}}\n",
      "{'basic_semantics_s98': {'nDCG@10': 0.1737252026796341, 'nDCG@50': 0.20832332968711853}}\n",
      "{'basic_semantics_s99': {'nDCG@10': 0.1737252026796341, 'nDCG@50': 0.20883244276046753}}\n",
      "{'basic_colnames': {'nDCG@10': 0.15175622701644897, 'nDCG@50': 0.19467131793498993}}\n",
      "{'deprived_semantics': {'nDCG@10': 0.09803961217403412, 'nDCG@50': 0.11998330056667328}}\n",
      "{'deprived_semantics_s10': {'nDCG@10': 0.09803961217403412, 'nDCG@50': 0.11998330056667328}}\n",
      "{'deprived_semantics_s20': {'nDCG@10': 0.09803961217403412, 'nDCG@50': 0.12005004286766052}}\n",
      "{'deprived_semantics_s30': {'nDCG@10': 0.09803961217403412, 'nDCG@50': 0.12003527581691742}}\n",
      "{'deprived_semantics_s40': {'nDCG@10': 0.09803961217403412, 'nDCG@50': 0.12033916264772415}}\n",
      "{'deprived_semantics_s50': {'nDCG@10': 0.09803961217403412, 'nDCG@50': 0.12007477134466171}}\n",
      "{'deprived_semantics_s60': {'nDCG@10': 0.09803961217403412, 'nDCG@50': 0.12042387574911118}}\n",
      "{'deprived_semantics_s70': {'nDCG@10': 0.09800641983747482, 'nDCG@50': 0.12067535519599915}}\n",
      "{'deprived_semantics_s80': {'nDCG@10': 0.09778256714344025, 'nDCG@50': 0.1204719990491867}}\n",
      "{'deprived_semantics_s90': {'nDCG@10': 0.097734734416008, 'nDCG@50': 0.12142973393201828}}\n",
      "{'deprived_semantics_s95': {'nDCG@10': 0.09745551645755768, 'nDCG@50': 0.12081656605005264}}\n",
      "{'deprived_semantics_s98': {'nDCG@10': 0.0970798134803772, 'nDCG@50': 0.12149091064929962}}\n",
      "{'deprived_semantics_s99': {'nDCG@10': 0.09436730295419693, 'nDCG@50': 0.11877664923667908}}\n",
      "{'title_only': {'nDCG@10': 0.09803961217403412, 'nDCG@50': 0.12081335484981537}}\n",
      "{'semantic_only': {'nDCG@10': 0.0003764543798752129, 'nDCG@50': 0.0008594762184657156}}\n",
      "{'deprived_colnames': {'nDCG@10': 0.07000493258237839, 'nDCG@50': 0.09721936285495758}}\n",
      "{'exclude_desc': {'nDCG@10': 0.10631401091814041, 'nDCG@50': 0.13638576865196228}}\n",
      "{'exclude_attr': {'nDCG@10': 0.17021480202674866, 'nDCG@50': 0.20483700931072235}}\n",
      "{'exclude_tags': {'nDCG@10': 0.17792169749736786, 'nDCG@50': 0.21070826053619385}}\n"
     ]
    }
   ],
   "source": [
    "result_merge = pd.DataFrame()\n",
    "\n",
    "for curr_field in FIELD_SET:\n",
    "\n",
    "    result_dict1 = defaultdict(float)\n",
    "    \n",
    "    for fn in list_of_search_fns:\n",
    "        result_dict1[curr_field] = evaluate_search_fn(fn[1], list_of_metrics, INDEX_SET, curr_field).values()\n",
    "\n",
    "    result_df1_all = pd.DataFrame.from_dict(result_dict1, \n",
    "                                       columns = ['nDCG@5','nDCG@10','nDCG@50'\n",
    "                                                  ,'p@5','p@10','p@50'\n",
    "                                                  ,'r@5','r@10','r@50'\n",
    "                                                  ,'details'],\n",
    "                                      orient='index')\n",
    "    \n",
    "    # Export query-level result for analysis if necessary (CSV)\n",
    "    detailed_df = pd.DataFrame.from_dict(result_df1_all['details'][0])\n",
    "    detailed_df.to_csv(DIR_OUTPUT + 'results_'+ str(INDEX_SET) +'_'+ curr_field +'.csv', index=False)\n",
    "    \n",
    "    # Append result for the current group of fields\n",
    "    result_merge = result_merge.append(result_df1_all)\n",
    "    \n",
    "    # Status check\n",
    "    print(result_df1_all[['nDCG@10','nDCG@50']].to_dict(orient='index'))\n",
    "\n",
    "result_merge = result_merge [['nDCG@5','nDCG@10','nDCG@50', 'p@5','p@10','p@50','r@5','r@10','r@50']]\n",
    "result_merge.to_csv(DIR_OUTPUT + 'results_'+ str(INDEX_SET) +'.csv', index=True)\n"
   ]
  },
  {
   "cell_type": "markdown",
   "id": "3b1f80a1",
   "metadata": {},
   "source": [
    "### Option 2: interactive mode - loop for an index and a field set, compute: \n",
    "1. all metrics; and \n",
    "2. using all search functions."
   ]
  },
  {
   "cell_type": "code",
   "execution_count": 28,
   "id": "4f063fdf",
   "metadata": {},
   "outputs": [
    {
     "data": {
      "text/plain": [
       "'basic'"
      ]
     },
     "execution_count": 28,
     "metadata": {},
     "output_type": "execute_result"
    }
   ],
   "source": [
    "INDEX_SET = 1 # Specify an index set\n",
    "\n",
    "curr_field = FIELD_SET[0] # Specify the group of fields\n",
    "curr_field"
   ]
  },
  {
   "cell_type": "code",
   "execution_count": 29,
   "id": "03e89cd5",
   "metadata": {},
   "outputs": [],
   "source": [
    "result_dict1 = defaultdict(float)\n",
    "\n",
    "for fn in list_of_search_fns:\n",
    "    result_dict1[curr_field] = evaluate_search_fn(fn[1], list_of_metrics, INDEX_SET, curr_field).values()\n",
    "\n",
    "result_df1_all = pd.DataFrame.from_dict(result_dict1, \n",
    "                                   columns = ['nDCG@5','nDCG@10','nDCG@50'\n",
    "                                              ,'p@5','p@10','p@50'\n",
    "                                              ,'r@5','r@10','r@50'\n",
    "                                              ,'details'],\n",
    "                                  orient='index')\n"
   ]
  },
  {
   "cell_type": "code",
   "execution_count": 30,
   "id": "85fd346f",
   "metadata": {},
   "outputs": [
    {
     "data": {
      "text/html": [
       "<div>\n",
       "<style scoped>\n",
       "    .dataframe tbody tr th:only-of-type {\n",
       "        vertical-align: middle;\n",
       "    }\n",
       "\n",
       "    .dataframe tbody tr th {\n",
       "        vertical-align: top;\n",
       "    }\n",
       "\n",
       "    .dataframe thead th {\n",
       "        text-align: right;\n",
       "    }\n",
       "</style>\n",
       "<table border=\"1\" class=\"dataframe\">\n",
       "  <thead>\n",
       "    <tr style=\"text-align: right;\">\n",
       "      <th></th>\n",
       "      <th>nDCG@10</th>\n",
       "      <th>nDCG@50</th>\n",
       "      <th>p@10</th>\n",
       "      <th>p@50</th>\n",
       "      <th>r@10</th>\n",
       "      <th>r@50</th>\n",
       "    </tr>\n",
       "  </thead>\n",
       "  <tbody>\n",
       "    <tr>\n",
       "      <th>basic</th>\n",
       "      <td>0.173725</td>\n",
       "      <td>0.208338</td>\n",
       "      <td>0.131361</td>\n",
       "      <td>0.049007</td>\n",
       "      <td>0.181112</td>\n",
       "      <td>0.298208</td>\n",
       "    </tr>\n",
       "  </tbody>\n",
       "</table>\n",
       "</div>"
      ],
      "text/plain": [
       "        nDCG@10   nDCG@50      p@10      p@50      r@10      r@50\n",
       "basic  0.173725  0.208338  0.131361  0.049007  0.181112  0.298208"
      ]
     },
     "execution_count": 30,
     "metadata": {},
     "output_type": "execute_result"
    }
   ],
   "source": [
    "# Display results\n",
    "result_df1 = result_df1_all [['nDCG@10','nDCG@50'\n",
    "                                ,'p@10','p@50'\n",
    "                                ,'r@10','r@50']]\n",
    "result_df1"
   ]
  },
  {
   "cell_type": "code",
   "execution_count": 31,
   "id": "8c43a471",
   "metadata": {},
   "outputs": [],
   "source": [
    "# Export as query-level results CSV for analysis\n",
    "detailed_df = pd.DataFrame.from_dict(result_df1_all['details'][0])\n",
    "detailed_df.to_csv(DIR_OUTPUT + 'results_'+ str(INDEX_SET) +'_'+ curr_field +'.csv', index=False)"
   ]
  },
  {
   "cell_type": "code",
   "execution_count": 32,
   "id": "6be5f1db",
   "metadata": {},
   "outputs": [
    {
     "data": {
      "image/png": "[encoded data removed]",
      "text/plain": [
       "<Figure size 288x288 with 1 Axes>"
      ]
     },
     "metadata": {
      "needs_background": "light"
     },
     "output_type": "display_data"
    }
   ],
   "source": [
    "import matplotlib\n",
    "ax = result_df1.transpose().plot.bar(rot=30, title='Evaluation of dataset search performance',\n",
    "                          xlabel='(only CSV dataset)', \n",
    "                                     figsize=(4,4), width=0.5)\n",
    "for p in ax.patches:\n",
    "    ax.annotate(\"%.2f\" % p.get_height(), (p.get_x() + p.get_width() / 2., p.get_height()), ha='center', va='center', xytext=(0, 10), textcoords='offset points', fontsize=8)\n"
   ]
  },
  {
   "cell_type": "markdown",
   "id": "340daeca",
   "metadata": {},
   "source": [
    "### Option 3: interactive mode - test a query"
   ]
  },
  {
   "cell_type": "code",
   "execution_count": 23,
   "id": "54c2ec8d",
   "metadata": {},
   "outputs": [
    {
     "data": {
      "text/plain": [
       "'basic'"
      ]
     },
     "execution_count": 23,
     "metadata": {},
     "output_type": "execute_result"
    }
   ],
   "source": [
    "QUERY_ID = 'DS1-E-0021' # Specify a query\n",
    "INDEX_SET = 1 # Specify an index set\n",
    "\n",
    "curr_field = FIELD_SET[0] # Specify the group of fields\n",
    "curr_field"
   ]
  },
  {
   "cell_type": "code",
   "execution_count": 24,
   "id": "1ec1f0c0",
   "metadata": {},
   "outputs": [
    {
     "data": {
      "text/plain": [
       "('DS1-E-0021', 'average utility expenses')"
      ]
     },
     "execution_count": 24,
     "metadata": {},
     "output_type": "execute_result"
    }
   ],
   "source": [
    "# Retrieve query\n",
    "queries_df = pd.DataFrame(queries, columns = ['id', 'query'])\n",
    "query_df = queries_df[queries_df.id == QUERY_ID]\n",
    "test_query = query_df.to_records(index = False)[0]\n",
    "test_query\n"
   ]
  },
  {
   "cell_type": "code",
   "execution_count": 25,
   "id": "7a3056ad",
   "metadata": {
    "scrolled": false
   },
   "outputs": [
    {
     "data": {
      "text/plain": [
       "[('8c355330-d32b-4137-b9ce-70a0e4f135bc', 9.519936),\n",
       " ('8566f34a-541a-4042-96ff-43d2f8c37994', 9.092283),\n",
       " ('0088362c-cc1a-405e-aa07-75de830651e0', 8.761575),\n",
       " ('6b75cdf8-102f-4db5-b30b-4ba027834d8f', 8.241793),\n",
       " ('2e59092b-c9aa-48ab-80f5-fab766c122a7', 8.130519),\n",
       " ('911468a8-f6c3-40bf-8e41-0301b6519639', 8.031216),\n",
       " ('ae5a34f0-438c-4eb8-b261-dfd088947f5b', 7.93165),\n",
       " ('7bfa94b1-18c2-4081-a319-5c1333cc0b16', 7.469602),\n",
       " ('4cac0154-f374-43ef-87d7-9b4142b1305e', 7.3379564),\n",
       " ('2a208933-c2c5-4f23-9c63-4771358d199d', 7.121032),\n",
       " ('0bdde0b3-fb4b-4875-8701-d0bbdde54be7', 6.982303),\n",
       " ('6a2ff66e-3bff-488c-af71-2035e3b4c94d', 6.912698),\n",
       " ('2cec8ff4-b062-4366-ba4c-1d4a4458f57f', 6.6488976),\n",
       " ('3f1e03d4-c18f-4fe2-af9a-237d5eb8cef2', 6.6488976),\n",
       " ('00423fd4-9269-424c-952a-b9e60d627213', 6.4067106),\n",
       " ('7efb8fc8-1557-4393-b122-d0ab982cc071', 6.4067106),\n",
       " ('7e42a54f-fdd2-4293-816b-08b504bca070', 6.1266036),\n",
       " ('81b721d8-b580-433c-a9d2-8f6a33f5a03e', 5.9955797),\n",
       " ('fad5c0ba-9792-448f-98e5-8d2ebebaaa44', 5.9955797),\n",
       " ('2f8e265b-d98b-410b-ac1f-e0351a4508d4', 5.5725255),\n",
       " ('4589daad-d775-40ac-be5b-ffd1f967fa68', 5.4666944),\n",
       " ('4c8328a1-7417-430c-9cec-3a146958c191', 5.3234725),\n",
       " ('555b8a34-a7fe-4975-9892-c77abc150808', 5.3234725),\n",
       " ('9dbccb6e-ef3f-4b54-af59-928956e72b48', 5.287002),\n",
       " ('2d5e6b32-9570-4f54-9256-9c48ed8d1307', 5.19821),\n",
       " ('00a11627-80d3-4b6b-bcd9-3947ae5b21cf', 5.078259),\n",
       " ('634c5cde-efdb-4975-a380-afff44fdab45', 4.866576),\n",
       " ('2e3afceb-1cb9-4aaf-9397-b768884e304d', 4.7768807),\n",
       " ('35614b97-2507-4fe5-95e6-c8e3d42293cc', 4.6451397),\n",
       " ('059f8040-66bd-443c-a9de-749b0a41ceab', 4.596481),\n",
       " ('19e5bae5-05ab-411d-9aa2-6cf6fa0c943f', 4.5898857),\n",
       " ('22ac6511-bfa4-44ce-a47c-eb16a90ee6f2', 4.5898857),\n",
       " ('404ddda0-758d-4ff3-8ceb-d22729c50d0e', 4.5898857),\n",
       " ('81dc9243-dc6a-454f-bb22-c1c2c861eb4c', 4.5898857),\n",
       " ('98751106-808c-4051-ac02-bcdc4fd77eec', 4.5898857),\n",
       " ('b5ac7d3a-f4b6-4e7a-a29e-a7ce91c64b6b', 4.5898857),\n",
       " ('c466c3b2-639f-42ad-8d5a-ac329aa2393e', 4.5094256),\n",
       " ('cd7ec036-fb61-40bc-a2e8-f8b913ec4d82', 4.5094256),\n",
       " ('c8bde5a9-99f9-4b9e-b94c-0b291fa1bfc7', 4.4832287),\n",
       " ('e1ff8d66-d058-4f06-8d0e-87cf36f37767', 4.4832287),\n",
       " ('7f74fb47-d080-4dcb-b238-3535d3d229df', 4.4573345),\n",
       " ('966bcab2-c168-47a0-812e-33442954aafe', 4.406433),\n",
       " ('24351a44-1114-4236-b349-19318fbde9da', 4.381416),\n",
       " ('783eacbc-8304-4d21-bb3c-8855c3d7429e', 4.322735),\n",
       " ('65493fec-2735-4afc-af40-cdf01aafc797', 4.2881613),\n",
       " ('f8e1826f-7cc8-4e77-955b-100d43d917e1', 4.2671766),\n",
       " ('8ac7ac02-1972-4f86-9c92-65c645cab336', 4.2388988),\n",
       " ('6af77d25-65ba-4891-b662-62e92d8bc683', 4.194924),\n",
       " ('b633e22f-ec44-4879-aa90-3994e4ed6d6e', 4.101954),\n",
       " ('e79eaabf-bf2d-4aef-91c3-a76d7e3df1e7', 4.101954)]"
      ]
     },
     "execution_count": 25,
     "metadata": {},
     "output_type": "execute_result"
    }
   ],
   "source": [
    "# Search and retrieve results\n",
    "test_result = es_search(test_query[1], INDEX_SET, curr_field)\n",
    "test_result\n"
   ]
  },
  {
   "cell_type": "code",
   "execution_count": 26,
   "id": "309aec1e",
   "metadata": {},
   "outputs": [
    {
     "data": {
      "text/plain": [
       "[('0bdde0b3-fb4b-4875-8701-d0bbdde54be7', 1.0),\n",
       " ('0ea80f0f-dd80-4ec3-991b-5ff55c471621', 2.0),\n",
       " ('2d845e81-cc46-4c09-bd69-8b40eb309953', 1.0),\n",
       " ('6b4b42fe-49c2-406b-bd7d-9fbc21317f6a', 1.0),\n",
       " ('842c067e-32cb-4a84-b50e-847e60b677e9', 1.0),\n",
       " ('911468a8-f6c3-40bf-8e41-0301b6519639', 1.0),\n",
       " ('afdceaab-c870-4ad9-8e40-3667b14449f3', 1.0)]"
      ]
     },
     "execution_count": 26,
     "metadata": {},
     "output_type": "execute_result"
    }
   ],
   "source": [
    "# Relevance judgement\n",
    "qrels[test_query[0]]"
   ]
  },
  {
   "cell_type": "code",
   "execution_count": 27,
   "id": "74845d2c",
   "metadata": {},
   "outputs": [
    {
     "name": "stdout",
     "output_type": "stream",
     "text": [
      "0.099924796593535\n",
      "0.04\n",
      "0.2857142857142857\n"
     ]
    }
   ],
   "source": [
    "# Evaluate\n",
    "print(ndcg_k(test_result, qrels[test_query[0]], k=50))\n",
    "print(precision_k(test_result, qrels[test_query[0]], k=50))\n",
    "print(recall_k(test_result, qrels[test_query[0]], k=50))"
   ]
  },
  {
   "cell_type": "markdown",
   "id": "5a7e3d41",
   "metadata": {},
   "source": [
    "#### More results and plots are documented in Google Sheets: https://docs.google.com/spreadsheets/d/1mmk3y15Qaq_xDIeSNB5_Oackawbeswes0AjoAvul3PE/edit?usp=sharing"
   ]
  },
  {
   "cell_type": "markdown",
   "id": "5cdd83fb",
   "metadata": {},
   "source": [
    "## 7. Significance Tests\n",
    "The Wilcoxon-tests were performed through interactive mode during our study"
   ]
  },
  {
   "cell_type": "code",
   "execution_count": 43,
   "id": "de87a7ae",
   "metadata": {},
   "outputs": [],
   "source": [
    "from scipy.stats import wilcoxon"
   ]
  },
  {
   "cell_type": "markdown",
   "id": "91561d5b",
   "metadata": {},
   "source": [
    "### Define constants based on the filenames of the exported results"
   ]
  },
  {
   "cell_type": "code",
   "execution_count": 44,
   "id": "277edb2c",
   "metadata": {},
   "outputs": [],
   "source": [
    "#BENCHMARK\n",
    "FILE_BENCHMARK = 'output/results_1_basic.csv'\n",
    "FILE_SEMANTIC_ENRICHED_METADATA = 'output/results_1_basic_semantics.csv'\n",
    "FILE_SEMANTIC_ENRICHED_METADATA_99 = 'output/results_1_basic_semantics_s99.csv'\n",
    "FILE_COLNAME_ENRICHED_METADATA = 'output/results_1_basic_colnames.csv'"
   ]
  },
  {
   "cell_type": "code",
   "execution_count": 45,
   "id": "349b22fb",
   "metadata": {},
   "outputs": [],
   "source": [
    "#POOR\n",
    "FILE_TITLE_ONLY = 'output/results_1_title_only.csv'\n",
    "FILE_SEMANTIC_ENRICHED_TITLE = 'output/results_1_deprived_semantics.csv'\n",
    "FILE_SEMANTIC_ENRICHED_TITLE_98 = 'output/results_1_deprived_semantics_s98.csv'"
   ]
  },
  {
   "cell_type": "markdown",
   "id": "f1063787",
   "metadata": {},
   "source": [
    "### Specify the comparable test results to measure"
   ]
  },
  {
   "cell_type": "code",
   "execution_count": 46,
   "id": "05349907",
   "metadata": {},
   "outputs": [
    {
     "name": "stdout",
     "output_type": "stream",
     "text": [
      "169\n",
      "169\n"
     ]
    }
   ],
   "source": [
    "base = pd.read_csv(FILE_TITLE_ONLY)\n",
    "new = pd.read_csv(FILE_SEMANTIC_ENRICHED_TITLE_98)\n",
    "\n",
    "base.sort_values(by='query_id', inplace=True)\n",
    "new.sort_values(by='query_id', inplace=True)\n",
    "\n",
    "print(len(base))\n",
    "print(len(new))"
   ]
  },
  {
   "cell_type": "markdown",
   "id": "c9a958ce",
   "metadata": {},
   "source": [
    "### Specify one metric to compare"
   ]
  },
  {
   "cell_type": "code",
   "execution_count": 47,
   "id": "7c4a3530",
   "metadata": {},
   "outputs": [],
   "source": [
    "METRIC_NAME = 'nDCG@10'# can be in ['nDCG@50', 'p@10', 'p@50', 'r@10', 'r@50']"
   ]
  },
  {
   "cell_type": "code",
   "execution_count": 48,
   "id": "0724f232",
   "metadata": {},
   "outputs": [
    {
     "data": {
      "text/plain": [
       "0    0.000000\n",
       "1    0.512030\n",
       "2    0.000000\n",
       "3    0.047976\n",
       "4    0.201922\n",
       "Name: nDCG@10, dtype: float64"
      ]
     },
     "execution_count": 48,
     "metadata": {},
     "output_type": "execute_result"
    }
   ],
   "source": [
    "base_values = base[METRIC_NAME]\n",
    "new_values = new[METRIC_NAME]\n",
    "base_values[:5]"
   ]
  },
  {
   "cell_type": "markdown",
   "id": "cfe139c3",
   "metadata": {},
   "source": [
    "### Calculate difference"
   ]
  },
  {
   "cell_type": "code",
   "execution_count": 49,
   "id": "8f53ce50",
   "metadata": {},
   "outputs": [
    {
     "data": {
      "text/plain": [
       "48    -0.067943\n",
       "131   -0.094265\n",
       "Name: nDCG@10, dtype: float64"
      ]
     },
     "execution_count": 49,
     "metadata": {},
     "output_type": "execute_result"
    }
   ],
   "source": [
    "diff_values = new_values - base_values\n",
    "diff_values[diff_values!=0.0]"
   ]
  },
  {
   "cell_type": "markdown",
   "id": "765266a0",
   "metadata": {},
   "source": [
    "### Perform test"
   ]
  },
  {
   "cell_type": "markdown",
   "id": "23741dfe",
   "metadata": {},
   "source": [
    "#### 2-tailed test"
   ]
  },
  {
   "cell_type": "code",
   "execution_count": 50,
   "id": "e9c0b898",
   "metadata": {},
   "outputs": [
    {
     "name": "stderr",
     "output_type": "stream",
     "text": [
      "/Users/mmargaret/opt/anaconda3/lib/python3.9/site-packages/scipy/stats/morestats.py:3155: UserWarning: Sample size too small for normal approximation.\n",
      "  warnings.warn(\"Sample size too small for normal approximation.\")\n"
     ]
    },
    {
     "data": {
      "text/plain": [
       "(0.0, 0.17971249487899976)"
      ]
     },
     "execution_count": 50,
     "metadata": {},
     "output_type": "execute_result"
    }
   ],
   "source": [
    "w, p = wilcoxon(diff_values)\n",
    "w, p"
   ]
  },
  {
   "cell_type": "markdown",
   "id": "8af984e8",
   "metadata": {},
   "source": [
    "#### 1-tailed test"
   ]
  },
  {
   "cell_type": "code",
   "execution_count": 51,
   "id": "db9d9a00",
   "metadata": {},
   "outputs": [
    {
     "data": {
      "text/plain": [
       "(0.0, 0.9101437525605001)"
      ]
     },
     "execution_count": 51,
     "metadata": {},
     "output_type": "execute_result"
    }
   ],
   "source": [
    "w, p = wilcoxon(diff_values, alternative='greater')\n",
    "w, p"
   ]
  },
  {
   "cell_type": "code",
   "execution_count": 52,
   "id": "c90ccdc5",
   "metadata": {},
   "outputs": [
    {
     "data": {
      "text/plain": [
       "(0.0, 0.08985624743949988)"
      ]
     },
     "execution_count": 52,
     "metadata": {},
     "output_type": "execute_result"
    }
   ],
   "source": [
    "w, p = wilcoxon(diff_values, alternative='less')\n",
    "w, p"
   ]
  }
 ],
 "metadata": {
  "kernelspec": {
   "display_name": "Python 3 (ipykernel)",
   "language": "python",
   "name": "python3"
  },
  "language_info": {
   "codemirror_mode": {
    "name": "ipython",
    "version": 3
   },
   "file_extension": ".py",
   "mimetype": "text/x-python",
   "name": "python",
   "nbconvert_exporter": "python",
   "pygments_lexer": "ipython3",
   "version": "3.9.7"
  }
 },
 "nbformat": 4,
 "nbformat_minor": 5
}
