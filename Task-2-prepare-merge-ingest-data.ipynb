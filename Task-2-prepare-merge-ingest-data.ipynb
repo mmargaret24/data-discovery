{
 "cells": [
  {
   "cell_type": "markdown",
   "id": "5b3a004e",
   "metadata": {},
   "source": [
    "# Prepare, merge and ingest data\n",
    "\n",
    "This interactive notebook (see Task#2 in the workflow) performs: \n",
    "- import metadata and semantics (in CSV), \n",
    "- merge metadata and semantics into one dataframe based on filenames \n",
    "- subset the enriched metadata to simulate good quality of metadata\n",
    "- ingest them to ElasticSearch index database using BulkAPI\n",
    "\n",
    "Pre-requisite:\n",
    "1. ElasticSearch installed. In this experiment, ElasticSearch (version 7.12.0) was deployed through the Docker (version 4.4.2).\n",
    "2. Metadata and semantics to be merged are ready to read in CSV. In our experiment:\n",
    "- metadata in JSON were formatted to CSV using Kibana, an ElasticStack tool.\n",
    "- column semantics were extracted (see Task#1) and exported as a CSV file\n",
    "3. The experiment were conducted with Python 3.9.7"
   ]
  },
  {
   "cell_type": "markdown",
   "id": "dd24868d",
   "metadata": {},
   "source": [
    "![Workflow for the experimental setup in leveraging column semantics for data discovery.](image/workflowv2.png \"Workflow\")"
   ]
  },
  {
   "cell_type": "markdown",
   "id": "df281f1f",
   "metadata": {},
   "source": [
    "## 1. Prepare"
   ]
  },
  {
   "cell_type": "code",
   "execution_count": 1,
   "id": "882ed284",
   "metadata": {},
   "outputs": [],
   "source": [
    "import pandas as pd\n",
    "import os"
   ]
  },
  {
   "cell_type": "markdown",
   "id": "212e8c2d",
   "metadata": {},
   "source": [
    "### Read files containing metadata and semantics information"
   ]
  },
  {
   "cell_type": "code",
   "execution_count": 2,
   "id": "dcc6f435",
   "metadata": {},
   "outputs": [
    {
     "data": {
      "text/html": [
       "<div>\n",
       "<style scoped>\n",
       "    .dataframe tbody tr th:only-of-type {\n",
       "        vertical-align: middle;\n",
       "    }\n",
       "\n",
       "    .dataframe tbody tr th {\n",
       "        vertical-align: top;\n",
       "    }\n",
       "\n",
       "    .dataframe thead th {\n",
       "        text-align: right;\n",
       "    }\n",
       "</style>\n",
       "<table border=\"1\" class=\"dataframe\">\n",
       "  <thead>\n",
       "    <tr style=\"text-align: right;\">\n",
       "      <th></th>\n",
       "      <th>id</th>\n",
       "      <th>title</th>\n",
       "      <th>description</th>\n",
       "      <th>attribution</th>\n",
       "      <th>data_fields.Publisher</th>\n",
       "      <th>data_fields.tags</th>\n",
       "      <th>data.data_organization</th>\n",
       "      <th>data.data_filename</th>\n",
       "    </tr>\n",
       "  </thead>\n",
       "  <tbody>\n",
       "    <tr>\n",
       "      <th>0</th>\n",
       "      <td>000201bb-1991-4165-aef5-b4f3510dc744</td>\n",
       "      <td>IDEA Part C Section 618 Table 2 Program Settin...</td>\n",
       "      <td>IDEA Part C Section 618 Table 2 Program Settin...</td>\n",
       "      <td>IDEA Part C Section 618 Table 2 Program Settin...</td>\n",
       "      <td>Office of Special Education Programs</td>\n",
       "      <td>[\"early-intervention-services\",\"education-of-i...</td>\n",
       "      <td>Department of Education</td>\n",
       "      <td>31a14619b98cf1e7897bea04bf356bc2fe47d28afadeb6...</td>\n",
       "    </tr>\n",
       "  </tbody>\n",
       "</table>\n",
       "</div>"
      ],
      "text/plain": [
       "                                     id  \\\n",
       "0  000201bb-1991-4165-aef5-b4f3510dc744   \n",
       "\n",
       "                                               title  \\\n",
       "0  IDEA Part C Section 618 Table 2 Program Settin...   \n",
       "\n",
       "                                         description  \\\n",
       "0  IDEA Part C Section 618 Table 2 Program Settin...   \n",
       "\n",
       "                                         attribution  \\\n",
       "0  IDEA Part C Section 618 Table 2 Program Settin...   \n",
       "\n",
       "                  data_fields.Publisher  \\\n",
       "0  Office of Special Education Programs   \n",
       "\n",
       "                                    data_fields.tags   data.data_organization  \\\n",
       "0  [\"early-intervention-services\",\"education-of-i...  Department of Education   \n",
       "\n",
       "                                  data.data_filename  \n",
       "0  31a14619b98cf1e7897bea04bf356bc2fe47d28afadeb6...  "
      ]
     },
     "metadata": {},
     "output_type": "display_data"
    },
    {
     "data": {
      "text/html": [
       "<div>\n",
       "<style scoped>\n",
       "    .dataframe tbody tr th:only-of-type {\n",
       "        vertical-align: middle;\n",
       "    }\n",
       "\n",
       "    .dataframe tbody tr th {\n",
       "        vertical-align: top;\n",
       "    }\n",
       "\n",
       "    .dataframe thead th {\n",
       "        text-align: right;\n",
       "    }\n",
       "</style>\n",
       "<table border=\"1\" class=\"dataframe\">\n",
       "  <thead>\n",
       "    <tr style=\"text-align: right;\">\n",
       "      <th></th>\n",
       "      <th>data_filename</th>\n",
       "      <th>colSemantics</th>\n",
       "      <th>colSemantics_s10</th>\n",
       "      <th>colSemantics_s20</th>\n",
       "      <th>colSemantics_s30</th>\n",
       "      <th>colSemantics_s40</th>\n",
       "      <th>colSemantics_s50</th>\n",
       "      <th>colSemantics_s60</th>\n",
       "      <th>colSemantics_s70</th>\n",
       "      <th>colSemantics_s80</th>\n",
       "      <th>colSemantics_s90</th>\n",
       "      <th>colSemantics_s95</th>\n",
       "      <th>colSemantics_s98</th>\n",
       "      <th>colSemantics_s99</th>\n",
       "      <th>colNames</th>\n",
       "      <th>colScores</th>\n",
       "      <th>colComplete</th>\n",
       "      <th>colTypes</th>\n",
       "      <th>colLen</th>\n",
       "    </tr>\n",
       "  </thead>\n",
       "  <tbody>\n",
       "    <tr>\n",
       "      <th>0</th>\n",
       "      <td>7cdef5be079976d589563498ba1801d9317588a120c481...</td>\n",
       "      <td>['code', 'year']</td>\n",
       "      <td>['code', 'year']</td>\n",
       "      <td>['code', 'year']</td>\n",
       "      <td>['code', 'year']</td>\n",
       "      <td>['code', 'year']</td>\n",
       "      <td>['code', 'year']</td>\n",
       "      <td>['year']</td>\n",
       "      <td>['year']</td>\n",
       "      <td>[]</td>\n",
       "      <td>[]</td>\n",
       "      <td>[]</td>\n",
       "      <td>[]</td>\n",
       "      <td>[]</td>\n",
       "      <td>['IncomeCategory', ' IncomeCategoryDesc']</td>\n",
       "      <td>[0.5207, 0.7909]</td>\n",
       "      <td>[1.0, 1.0]</td>\n",
       "      <td>[dtype('O'), dtype('O')]</td>\n",
       "      <td>[3.5, 23.25]</td>\n",
       "    </tr>\n",
       "  </tbody>\n",
       "</table>\n",
       "</div>"
      ],
      "text/plain": [
       "                                       data_filename      colSemantics  \\\n",
       "0  7cdef5be079976d589563498ba1801d9317588a120c481...  ['code', 'year']   \n",
       "\n",
       "   colSemantics_s10  colSemantics_s20  colSemantics_s30  colSemantics_s40  \\\n",
       "0  ['code', 'year']  ['code', 'year']  ['code', 'year']  ['code', 'year']   \n",
       "\n",
       "   colSemantics_s50 colSemantics_s60 colSemantics_s70 colSemantics_s80  \\\n",
       "0  ['code', 'year']         ['year']         ['year']               []   \n",
       "\n",
       "  colSemantics_s90 colSemantics_s95 colSemantics_s98 colSemantics_s99  \\\n",
       "0               []               []               []               []   \n",
       "\n",
       "                                    colNames         colScores colComplete  \\\n",
       "0  ['IncomeCategory', ' IncomeCategoryDesc']  [0.5207, 0.7909]  [1.0, 1.0]   \n",
       "\n",
       "                   colTypes        colLen  \n",
       "0  [dtype('O'), dtype('O')]  [3.5, 23.25]  "
      ]
     },
     "metadata": {},
     "output_type": "display_data"
    }
   ],
   "source": [
    "root_folder = \"./data/\"\n",
    "metadata_df = pd.read_csv(os.path.join(root_folder, \"metadata_datagov_simple.csv\"))\n",
    "enrich_df = pd.read_csv(os.path.join(root_folder, \"enriched_all.csv\")) \n",
    "display(metadata_df.head(1))\n",
    "display(enrich_df.head(1))"
   ]
  },
  {
   "cell_type": "markdown",
   "id": "77f5367c",
   "metadata": {},
   "source": [
    "#### Checkpoint"
   ]
  },
  {
   "cell_type": "code",
   "execution_count": 3,
   "id": "51aebe47",
   "metadata": {},
   "outputs": [
    {
     "data": {
      "text/plain": [
       "'[\"16c959754401f6c9db9839cf2943c4d151224114ec4f8da9271340af0b2b7a07.text.csv\",\"a979e9bf61914df8d36afe25d40d1cd7bbcc42918776242242d144fd892bed0e.application.rdf+xml\",\"c5deeeea9486a9fcda8c28df00850238ee0d862c71d29e105ca5e420b8350abe.application.json\",\"95337fc401c26b3e2749c0d96ec30b62eaccf1501089e5c411b3a99a69d3a05b.text.xml\"]'"
      ]
     },
     "execution_count": 3,
     "metadata": {},
     "output_type": "execute_result"
    }
   ],
   "source": [
    "# CHECK\n",
    "metadata_df[\"data.data_filename\"][2]"
   ]
  },
  {
   "cell_type": "markdown",
   "id": "263b06e3",
   "metadata": {},
   "source": [
    "## 2. Merge\n",
    "merge metadata and semantics through cross-join by filename "
   ]
  },
  {
   "cell_type": "markdown",
   "id": "230422cc",
   "metadata": {},
   "source": [
    "### Cross-join all metadata and semantics"
   ]
  },
  {
   "cell_type": "code",
   "execution_count": 4,
   "id": "634af6d9",
   "metadata": {},
   "outputs": [
    {
     "data": {
      "text/html": [
       "<div>\n",
       "<style scoped>\n",
       "    .dataframe tbody tr th:only-of-type {\n",
       "        vertical-align: middle;\n",
       "    }\n",
       "\n",
       "    .dataframe tbody tr th {\n",
       "        vertical-align: top;\n",
       "    }\n",
       "\n",
       "    .dataframe thead th {\n",
       "        text-align: right;\n",
       "    }\n",
       "</style>\n",
       "<table border=\"1\" class=\"dataframe\">\n",
       "  <thead>\n",
       "    <tr style=\"text-align: right;\">\n",
       "      <th></th>\n",
       "      <th>id</th>\n",
       "      <th>title</th>\n",
       "      <th>description</th>\n",
       "      <th>attribution</th>\n",
       "      <th>data_fields.Publisher</th>\n",
       "      <th>data_fields.tags</th>\n",
       "      <th>data.data_organization</th>\n",
       "      <th>data.data_filename</th>\n",
       "      <th>data_filename</th>\n",
       "      <th>colSemantics</th>\n",
       "      <th>...</th>\n",
       "      <th>colSemantics_s80</th>\n",
       "      <th>colSemantics_s90</th>\n",
       "      <th>colSemantics_s95</th>\n",
       "      <th>colSemantics_s98</th>\n",
       "      <th>colSemantics_s99</th>\n",
       "      <th>colNames</th>\n",
       "      <th>colScores</th>\n",
       "      <th>colComplete</th>\n",
       "      <th>colTypes</th>\n",
       "      <th>colLen</th>\n",
       "    </tr>\n",
       "  </thead>\n",
       "  <tbody>\n",
       "    <tr>\n",
       "      <th>0</th>\n",
       "      <td>000201bb-1991-4165-aef5-b4f3510dc744</td>\n",
       "      <td>IDEA Part C Section 618 Table 2 Program Settin...</td>\n",
       "      <td>IDEA Part C Section 618 Table 2 Program Settin...</td>\n",
       "      <td>IDEA Part C Section 618 Table 2 Program Settin...</td>\n",
       "      <td>Office of Special Education Programs</td>\n",
       "      <td>[\"early-intervention-services\",\"education-of-i...</td>\n",
       "      <td>Department of Education</td>\n",
       "      <td>31a14619b98cf1e7897bea04bf356bc2fe47d28afadeb6...</td>\n",
       "      <td>7cdef5be079976d589563498ba1801d9317588a120c481...</td>\n",
       "      <td>['code', 'year']</td>\n",
       "      <td>...</td>\n",
       "      <td>[]</td>\n",
       "      <td>[]</td>\n",
       "      <td>[]</td>\n",
       "      <td>[]</td>\n",
       "      <td>[]</td>\n",
       "      <td>['IncomeCategory', ' IncomeCategoryDesc']</td>\n",
       "      <td>[0.5207, 0.7909]</td>\n",
       "      <td>[1.0, 1.0]</td>\n",
       "      <td>[dtype('O'), dtype('O')]</td>\n",
       "      <td>[3.5, 23.25]</td>\n",
       "    </tr>\n",
       "  </tbody>\n",
       "</table>\n",
       "<p>1 rows × 27 columns</p>\n",
       "</div>"
      ],
      "text/plain": [
       "                                     id  \\\n",
       "0  000201bb-1991-4165-aef5-b4f3510dc744   \n",
       "\n",
       "                                               title  \\\n",
       "0  IDEA Part C Section 618 Table 2 Program Settin...   \n",
       "\n",
       "                                         description  \\\n",
       "0  IDEA Part C Section 618 Table 2 Program Settin...   \n",
       "\n",
       "                                         attribution  \\\n",
       "0  IDEA Part C Section 618 Table 2 Program Settin...   \n",
       "\n",
       "                  data_fields.Publisher  \\\n",
       "0  Office of Special Education Programs   \n",
       "\n",
       "                                    data_fields.tags   data.data_organization  \\\n",
       "0  [\"early-intervention-services\",\"education-of-i...  Department of Education   \n",
       "\n",
       "                                  data.data_filename  \\\n",
       "0  31a14619b98cf1e7897bea04bf356bc2fe47d28afadeb6...   \n",
       "\n",
       "                                       data_filename      colSemantics  ...  \\\n",
       "0  7cdef5be079976d589563498ba1801d9317588a120c481...  ['code', 'year']  ...   \n",
       "\n",
       "  colSemantics_s80 colSemantics_s90 colSemantics_s95 colSemantics_s98  \\\n",
       "0               []               []               []               []   \n",
       "\n",
       "  colSemantics_s99                                   colNames  \\\n",
       "0               []  ['IncomeCategory', ' IncomeCategoryDesc']   \n",
       "\n",
       "          colScores colComplete                  colTypes        colLen  \n",
       "0  [0.5207, 0.7909]  [1.0, 1.0]  [dtype('O'), dtype('O')]  [3.5, 23.25]  \n",
       "\n",
       "[1 rows x 27 columns]"
      ]
     },
     "metadata": {},
     "output_type": "display_data"
    }
   ],
   "source": [
    "metadata_df['join'] = 1\n",
    "enrich_df['join'] = 1\n",
    "\n",
    "metadata_df = metadata_df.merge(enrich_df, on='join').drop('join', axis=1)\n",
    "enrich_df.drop('join', axis=1, inplace=True)\n",
    "\n",
    "display(metadata_df.head(1))"
   ]
  },
  {
   "cell_type": "markdown",
   "id": "67b5ef31",
   "metadata": {},
   "source": [
    "### On the cross-join table, find matching dataset filenames"
   ]
  },
  {
   "cell_type": "code",
   "execution_count": 5,
   "id": "011d90c5",
   "metadata": {},
   "outputs": [],
   "source": [
    "metadata_df['match'] = metadata_df.apply(lambda x: x['data.data_filename'].find(x.data_filename), axis=1).ge(0)"
   ]
  },
  {
   "cell_type": "markdown",
   "id": "75084845",
   "metadata": {},
   "source": [
    "#### Checkpoint: export the cross-join table with match indicator for eyeball check (find \"check_cross_join.csv\")"
   ]
  },
  {
   "cell_type": "code",
   "execution_count": 6,
   "id": "fb977eea",
   "metadata": {},
   "outputs": [],
   "source": [
    "# CHECK for matching csv\n",
    "metadata_df[metadata_df.match == True][['data.data_filename', 'data_filename']].to_csv(os.path.join(root_folder, \"check_cross_join.csv\"))\n"
   ]
  },
  {
   "cell_type": "markdown",
   "id": "162cdef0",
   "metadata": {},
   "source": [
    "### Drop the rows with non-matching dataset filenames"
   ]
  },
  {
   "cell_type": "code",
   "execution_count": 7,
   "id": "6737b855",
   "metadata": {},
   "outputs": [
    {
     "data": {
      "text/html": [
       "<div>\n",
       "<style scoped>\n",
       "    .dataframe tbody tr th:only-of-type {\n",
       "        vertical-align: middle;\n",
       "    }\n",
       "\n",
       "    .dataframe tbody tr th {\n",
       "        vertical-align: top;\n",
       "    }\n",
       "\n",
       "    .dataframe thead th {\n",
       "        text-align: right;\n",
       "    }\n",
       "</style>\n",
       "<table border=\"1\" class=\"dataframe\">\n",
       "  <thead>\n",
       "    <tr style=\"text-align: right;\">\n",
       "      <th></th>\n",
       "      <th>id</th>\n",
       "      <th>title</th>\n",
       "      <th>description</th>\n",
       "      <th>attribution</th>\n",
       "      <th>data_fields.Publisher</th>\n",
       "      <th>data_fields.tags</th>\n",
       "      <th>data.data_organization</th>\n",
       "      <th>data.data_filename</th>\n",
       "      <th>data_filename</th>\n",
       "      <th>colSemantics</th>\n",
       "      <th>...</th>\n",
       "      <th>colSemantics_s80</th>\n",
       "      <th>colSemantics_s90</th>\n",
       "      <th>colSemantics_s95</th>\n",
       "      <th>colSemantics_s98</th>\n",
       "      <th>colSemantics_s99</th>\n",
       "      <th>colNames</th>\n",
       "      <th>colScores</th>\n",
       "      <th>colComplete</th>\n",
       "      <th>colTypes</th>\n",
       "      <th>colLen</th>\n",
       "    </tr>\n",
       "  </thead>\n",
       "  <tbody>\n",
       "    <tr>\n",
       "      <th>957</th>\n",
       "      <td>000201bb-1991-4165-aef5-b4f3510dc744</td>\n",
       "      <td>IDEA Part C Section 618 Table 2 Program Settin...</td>\n",
       "      <td>IDEA Part C Section 618 Table 2 Program Settin...</td>\n",
       "      <td>IDEA Part C Section 618 Table 2 Program Settin...</td>\n",
       "      <td>Office of Special Education Programs</td>\n",
       "      <td>[\"early-intervention-services\",\"education-of-i...</td>\n",
       "      <td>Department of Education</td>\n",
       "      <td>31a14619b98cf1e7897bea04bf356bc2fe47d28afadeb6...</td>\n",
       "      <td>31a14619b98cf1e7897bea04bf356bc2fe47d28afadeb6...</td>\n",
       "      <td>['year', 'state', 'area', 'rank', 'area', 'ran...</td>\n",
       "      <td>...</td>\n",
       "      <td>['area', 'rank', 'area', 'area', 'area']</td>\n",
       "      <td>['area', 'area', 'area', 'area']</td>\n",
       "      <td>[]</td>\n",
       "      <td>[]</td>\n",
       "      <td>[]</td>\n",
       "      <td>['Year', 'State', 'Setting', 'Birth to 1', ' 1...</td>\n",
       "      <td>[0.4587, 0.6141, 0.434, 0.4079, 0.9014, 0.8384...</td>\n",
       "      <td>[1.0, 0.9828, 0.9794, 0.9794, 0.9794, 0.9794, ...</td>\n",
       "      <td>[dtype('O'), dtype('O'), dtype('O'), dtype('O'...</td>\n",
       "      <td>[4.3162, 10.0344, 11.2268, 2.0893, 2.4502, 2.6...</td>\n",
       "    </tr>\n",
       "  </tbody>\n",
       "</table>\n",
       "<p>1 rows × 27 columns</p>\n",
       "</div>"
      ],
      "text/plain": [
       "                                       id  \\\n",
       "957  000201bb-1991-4165-aef5-b4f3510dc744   \n",
       "\n",
       "                                                 title  \\\n",
       "957  IDEA Part C Section 618 Table 2 Program Settin...   \n",
       "\n",
       "                                           description  \\\n",
       "957  IDEA Part C Section 618 Table 2 Program Settin...   \n",
       "\n",
       "                                           attribution  \\\n",
       "957  IDEA Part C Section 618 Table 2 Program Settin...   \n",
       "\n",
       "                    data_fields.Publisher  \\\n",
       "957  Office of Special Education Programs   \n",
       "\n",
       "                                      data_fields.tags  \\\n",
       "957  [\"early-intervention-services\",\"education-of-i...   \n",
       "\n",
       "      data.data_organization  \\\n",
       "957  Department of Education   \n",
       "\n",
       "                                    data.data_filename  \\\n",
       "957  31a14619b98cf1e7897bea04bf356bc2fe47d28afadeb6...   \n",
       "\n",
       "                                         data_filename  \\\n",
       "957  31a14619b98cf1e7897bea04bf356bc2fe47d28afadeb6...   \n",
       "\n",
       "                                          colSemantics  ...  \\\n",
       "957  ['year', 'state', 'area', 'rank', 'area', 'ran...  ...   \n",
       "\n",
       "                             colSemantics_s80  \\\n",
       "957  ['area', 'rank', 'area', 'area', 'area']   \n",
       "\n",
       "                     colSemantics_s90 colSemantics_s95 colSemantics_s98  \\\n",
       "957  ['area', 'area', 'area', 'area']               []               []   \n",
       "\n",
       "    colSemantics_s99                                           colNames  \\\n",
       "957               []  ['Year', 'State', 'Setting', 'Birth to 1', ' 1...   \n",
       "\n",
       "                                             colScores  \\\n",
       "957  [0.4587, 0.6141, 0.434, 0.4079, 0.9014, 0.8384...   \n",
       "\n",
       "                                           colComplete  \\\n",
       "957  [1.0, 0.9828, 0.9794, 0.9794, 0.9794, 0.9794, ...   \n",
       "\n",
       "                                              colTypes  \\\n",
       "957  [dtype('O'), dtype('O'), dtype('O'), dtype('O'...   \n",
       "\n",
       "                                                colLen  \n",
       "957  [4.3162, 10.0344, 11.2268, 2.0893, 2.4502, 2.6...  \n",
       "\n",
       "[1 rows x 27 columns]"
      ]
     },
     "execution_count": 7,
     "metadata": {},
     "output_type": "execute_result"
    }
   ],
   "source": [
    "metadata_df = metadata_df[metadata_df.match == True]\n",
    "metadata_df.drop('match', axis=1, inplace=True)\n",
    "metadata_df.head(1)"
   ]
  },
  {
   "cell_type": "markdown",
   "id": "3a428dc7",
   "metadata": {},
   "source": [
    "#### Checkpoint: presence of rows with same metadata_id for different dataset, and join them\n",
    "Some metadata contains multiple data files. We want to have one record for one metadata ID, hence joining them."
   ]
  },
  {
   "cell_type": "code",
   "execution_count": 8,
   "id": "377ed193",
   "metadata": {},
   "outputs": [
    {
     "data": {
      "text/plain": [
       "counts\n",
       "1     2121\n",
       "2       38\n",
       "3        8\n",
       "4       12\n",
       "5        6\n",
       "6        4\n",
       "7        6\n",
       "8        2\n",
       "9        1\n",
       "12       1\n",
       "13       1\n",
       "23       1\n",
       "28       1\n",
       "29       3\n",
       "30       3\n",
       "31       1\n",
       "41       1\n",
       "51       1\n",
       "66       1\n",
       "dtype: int64"
      ]
     },
     "execution_count": 8,
     "metadata": {},
     "output_type": "execute_result"
    }
   ],
   "source": [
    "# CHECK (before joining)\n",
    "metadata_df.groupby(\"id\").size().reset_index(name='counts').groupby(\"counts\").size() #check unique rows"
   ]
  },
  {
   "cell_type": "markdown",
   "id": "3f10ce16",
   "metadata": {},
   "source": [
    "### Group rows with same metadata ID by joining the textual information"
   ]
  },
  {
   "cell_type": "code",
   "execution_count": 9,
   "id": "0c2e69e8",
   "metadata": {},
   "outputs": [],
   "source": [
    "metadata_df = metadata_df.astype(str)\n",
    "metadata_by_id_df = metadata_df.groupby('id').agg({'title' : 'first', \n",
    "                               'description' : 'first', \n",
    "                               'attribution' : 'first',\n",
    "                               'data_fields.Publisher' : 'first',\n",
    "                               'data_fields.tags' : 'first',\n",
    "                               'data.data_organization' : 'first',\n",
    "                               'data.data_filename' : 'first',\n",
    "                               'colSemantics' : ' '.join,\n",
    "                               'colSemantics_s10' : ' '.join, 'colSemantics_s20' : ' '.join, 'colSemantics_s30' : ' '.join,\n",
    "                               'colSemantics_s40' : ' '.join, 'colSemantics_s50' : ' '.join, 'colSemantics_s60' : ' '.join,\n",
    "                               'colSemantics_s70' : ' '.join, 'colSemantics_s80' : ' '.join, 'colSemantics_s90' : ' '.join,\n",
    "                               'colSemantics_s95' : ' '.join, 'colSemantics_s98' : ' '.join, 'colSemantics_s99' : ' '.join,\n",
    "                               'colNames' : ' '.join,\n",
    "                               'colScores' : ' '.join,\n",
    "                               'colTypes' : ' '.join,\n",
    "                               'colComplete' : ' '.join,\n",
    "                               'colLen' : ' '.join}) \n"
   ]
  },
  {
   "cell_type": "markdown",
   "id": "3c798006",
   "metadata": {},
   "source": [
    "#### Checkpoint"
   ]
  },
  {
   "cell_type": "code",
   "execution_count": 10,
   "id": "4d868830",
   "metadata": {},
   "outputs": [
    {
     "data": {
      "text/plain": [
       "counts\n",
       "1    2212\n",
       "dtype: int64"
      ]
     },
     "execution_count": 10,
     "metadata": {},
     "output_type": "execute_result"
    }
   ],
   "source": [
    "# CHECK (after joining)\n",
    "metadata_by_id_df.groupby(\"id\").size().reset_index(name='counts').groupby(\"counts\").size() #check unique rows\n"
   ]
  },
  {
   "cell_type": "code",
   "execution_count": 11,
   "id": "1dea1c36",
   "metadata": {},
   "outputs": [
    {
     "data": {
      "text/plain": [
       "Index(['title', 'description', 'attribution', 'publisher', 'tags',\n",
       "       'data_organization', 'filename', 'col_semantics', 'col_semantics_s10',\n",
       "       'col_semantics_s20', 'col_semantics_s30', 'col_semantics_s40',\n",
       "       'col_semantics_s50', 'col_semantics_s60', 'col_semantics_s70',\n",
       "       'col_semantics_s80', 'col_semantics_s90', 'col_semantics_s95',\n",
       "       'col_semantics_s98', 'col_semantics_s99', 'col_names', 'col_scores',\n",
       "       'col_types', 'col_completeness', 'col_len'],\n",
       "      dtype='object')"
      ]
     },
     "execution_count": 11,
     "metadata": {},
     "output_type": "execute_result"
    }
   ],
   "source": [
    "# Standardize field names\n",
    "metadata_by_id_df.rename({'data_fields.Publisher': 'publisher', \n",
    "                          'data_fields.tags': 'tags',\n",
    "                         'data.data_organization': 'data_organization', \n",
    "                         'data.data_filename': 'filename',\n",
    "                         'colSemantics': 'col_semantics',\n",
    "                         'colSemantics_s10' : 'col_semantics_s10',\n",
    "                         'colSemantics_s20' : 'col_semantics_s20', \n",
    "                         'colSemantics_s30' : 'col_semantics_s30', \n",
    "                         'colSemantics_s40' : 'col_semantics_s40',\n",
    "                         'colSemantics_s50' : 'col_semantics_s50', \n",
    "                         'colSemantics_s60' : 'col_semantics_s60', \n",
    "                         'colSemantics_s70' : 'col_semantics_s70',\n",
    "                         'colSemantics_s80' : 'col_semantics_s80', \n",
    "                         'colSemantics_s90' : 'col_semantics_s90', \n",
    "                         'colSemantics_s95' : 'col_semantics_s95',\n",
    "                         'colSemantics_s98' : 'col_semantics_s98', \n",
    "                         'colSemantics_s99' : 'col_semantics_s99',\n",
    "                         'colNames': 'col_names',\n",
    "                         'colTypes': 'col_types',\n",
    "                         'colLen': 'col_len',\n",
    "                         'colScores': 'col_scores',\n",
    "                         'colComplete': 'col_completeness'}, axis=1, inplace=True)\n",
    "\n",
    "metadata_by_id_df.columns"
   ]
  },
  {
   "cell_type": "markdown",
   "id": "0524ffb0",
   "metadata": {},
   "source": [
    "### clean up by removing rows with empty semantics"
   ]
  },
  {
   "cell_type": "code",
   "execution_count": 12,
   "id": "90287fec",
   "metadata": {},
   "outputs": [
    {
     "data": {
      "text/plain": [
       "2212"
      ]
     },
     "execution_count": 12,
     "metadata": {},
     "output_type": "execute_result"
    }
   ],
   "source": [
    "# CHECK\n",
    "len(metadata_by_id_df)"
   ]
  },
  {
   "cell_type": "code",
   "execution_count": 13,
   "id": "d2a03aaa",
   "metadata": {},
   "outputs": [
    {
     "data": {
      "text/plain": [
       "2006"
      ]
     },
     "execution_count": 13,
     "metadata": {},
     "output_type": "execute_result"
    }
   ],
   "source": [
    "metadata_by_id_df = metadata_by_id_df[metadata_by_id_df['col_semantics'] != '[]']\n",
    "len(metadata_by_id_df)"
   ]
  },
  {
   "cell_type": "markdown",
   "id": "977a6f6f",
   "metadata": {},
   "source": [
    "## 3. Subset Metadata  (skip if using original metadata)\n",
    "to simulate good quality metadata, we took a subset of metadata containing either description length or attribute length that are at least at the second quartile or higher in the population."
   ]
  },
  {
   "cell_type": "code",
   "execution_count": 40,
   "id": "16f88908",
   "metadata": {},
   "outputs": [],
   "source": [
    "metadata_by_id_df_good = metadata_by_id_df"
   ]
  },
  {
   "cell_type": "code",
   "execution_count": 41,
   "id": "af9134a3",
   "metadata": {},
   "outputs": [],
   "source": [
    "metadata_by_id_df_good['len_desc'] = metadata_by_id_df_good['description'].str.len()\n",
    "metadata_by_id_df_good['len_attr'] = metadata_by_id_df_good['attribution'].str.len()"
   ]
  },
  {
   "cell_type": "markdown",
   "id": "3e911ba4",
   "metadata": {},
   "source": [
    "### calculate population quantiles for length of description and length of attributes"
   ]
  },
  {
   "cell_type": "code",
   "execution_count": 42,
   "id": "aaa231af",
   "metadata": {},
   "outputs": [
    {
     "name": "stdout",
     "output_type": "stream",
     "text": [
      "      len_desc  len_attr\n",
      "0.25    126.25     175.0\n",
      "0.50    299.50     189.0\n",
      "0.75    691.00     212.0\n"
     ]
    }
   ],
   "source": [
    "print(metadata_by_id_df_good.quantile([0.25, 0.5, 0.75]))"
   ]
  },
  {
   "cell_type": "code",
   "execution_count": 43,
   "id": "7ee2d404",
   "metadata": {},
   "outputs": [],
   "source": [
    "metadata_by_id_df_good = metadata_by_id_df_good[(metadata_by_id_df_good['len_desc'] > 126) | \n",
    "                                                (metadata_by_id_df_good['len_attr'] > 175)]\n"
   ]
  },
  {
   "cell_type": "markdown",
   "id": "b5da3891",
   "metadata": {},
   "source": [
    "#### checkpoint: number of rows before and after taking subset"
   ]
  },
  {
   "cell_type": "code",
   "execution_count": 44,
   "id": "2a0f32a4",
   "metadata": {},
   "outputs": [
    {
     "data": {
      "text/plain": [
       "2006"
      ]
     },
     "execution_count": 44,
     "metadata": {},
     "output_type": "execute_result"
    }
   ],
   "source": [
    "len(metadata_by_id_df)"
   ]
  },
  {
   "cell_type": "code",
   "execution_count": 45,
   "id": "98281d43",
   "metadata": {},
   "outputs": [
    {
     "data": {
      "text/plain": [
       "1864"
      ]
     },
     "execution_count": 45,
     "metadata": {},
     "output_type": "execute_result"
    }
   ],
   "source": [
    "len(metadata_by_id_df_good)"
   ]
  },
  {
   "cell_type": "markdown",
   "id": "73846576",
   "metadata": {},
   "source": [
    "## 4. Ingest Data"
   ]
  },
  {
   "cell_type": "markdown",
   "id": "135c3481",
   "metadata": {},
   "source": [
    "### specify index name, this will be used in ElasticSearch's Index Database"
   ]
  },
  {
   "cell_type": "code",
   "execution_count": 14,
   "id": "992ebd5f",
   "metadata": {},
   "outputs": [],
   "source": [
    "INDEX_NAME = 'datagov-all-csv-scores' # option for good quality subset: 'datagov-good-csv-scores'"
   ]
  },
  {
   "cell_type": "markdown",
   "id": "b7713d67",
   "metadata": {},
   "source": [
    "### specify fields to ingest"
   ]
  },
  {
   "cell_type": "code",
   "execution_count": 15,
   "id": "a4b5f558",
   "metadata": {},
   "outputs": [],
   "source": [
    "col_list = ['title', 'description', 'attribution', 'publisher', 'tags'\n",
    "            ,'data_organization', 'filename', 'col_semantics', 'col_names'\n",
    "            , 'col_semantics_s10','col_semantics_s20', 'col_semantics_s30','col_semantics_s40'\n",
    "            ,'col_semantics_s50', 'col_semantics_s60', 'col_semantics_s70','col_semantics_s80'\n",
    "            , 'col_semantics_s90', 'col_semantics_s95','col_semantics_s98', 'col_semantics_s99'\n",
    "            ,'col_names','col_types', 'col_len','col_scores', 'col_completeness']\n"
   ]
  },
  {
   "cell_type": "markdown",
   "id": "7c26dd6d",
   "metadata": {},
   "source": [
    "### specify dataframe\n",
    "- for original metadata, use: metadata_by_id_df\n",
    "- for subset of metadata, use: metadata_by_id_df_good"
   ]
  },
  {
   "cell_type": "code",
   "execution_count": 16,
   "id": "73bc1d81",
   "metadata": {},
   "outputs": [],
   "source": [
    "metadata_df = metadata_by_id_df[col_list] # df with subset is \"metadata_by_id_df_good [col_list]\""
   ]
  },
  {
   "cell_type": "markdown",
   "id": "acbac6ed",
   "metadata": {},
   "source": [
    "### setup ElasticSearch"
   ]
  },
  {
   "cell_type": "code",
   "execution_count": 18,
   "id": "eb063fd6",
   "metadata": {},
   "outputs": [],
   "source": [
    "from elasticsearch import Elasticsearch\n",
    "es_client = Elasticsearch(\n",
    "    \"localhost:9200\",\n",
    "    http_auth=[\"elastic\", \"changeme\"],\n",
    ")"
   ]
  },
  {
   "cell_type": "code",
   "execution_count": 19,
   "id": "1cb6231f",
   "metadata": {},
   "outputs": [],
   "source": [
    "from elasticsearch.client import IndicesClient\n",
    "es_index_client = IndicesClient(es_client)"
   ]
  },
  {
   "cell_type": "code",
   "execution_count": 20,
   "id": "613de6f2",
   "metadata": {},
   "outputs": [
    {
     "data": {
      "text/plain": [
       "{'acknowledged': True,\n",
       " 'shards_acknowledged': True,\n",
       " 'index': 'datagov-all-csv-scores-test'}"
      ]
     },
     "execution_count": 20,
     "metadata": {},
     "output_type": "execute_result"
    }
   ],
   "source": [
    "es_client.indices.create(index = INDEX_NAME, ignore=400)"
   ]
  },
  {
   "cell_type": "markdown",
   "id": "36657141",
   "metadata": {},
   "source": [
    "### convert metadata to dictionary for ingestion"
   ]
  },
  {
   "cell_type": "code",
   "execution_count": 21,
   "id": "1d1accaf",
   "metadata": {},
   "outputs": [
    {
     "name": "stderr",
     "output_type": "stream",
     "text": [
      "/var/folders/4j/b74xw8zn3_9dq5pwdxr7vtlr0000gn/T/ipykernel_3262/1138931621.py:1: SettingWithCopyWarning: \n",
      "A value is trying to be set on a copy of a slice from a DataFrame.\n",
      "Try using .loc[row_indexer,col_indexer] = value instead\n",
      "\n",
      "See the caveats in the documentation: https://pandas.pydata.org/pandas-docs/stable/user_guide/indexing.html#returning-a-view-versus-a-copy\n",
      "  metadata_df['id'] = metadata_df.index\n",
      "/var/folders/4j/b74xw8zn3_9dq5pwdxr7vtlr0000gn/T/ipykernel_3262/1138931621.py:2: UserWarning: DataFrame columns are not unique, some columns will be omitted.\n",
      "  metadata_dict_df = metadata_df.to_dict('records')\n"
     ]
    },
    {
     "data": {
      "text/plain": [
       "{'title': 'IDEA Part C Section 618 Table 2 Program Settings, 2012',\n",
       " 'description': 'IDEA Part C Section 618 Table 2 Program Settings, 2012 (IDEA Part C Table 2 2012), is a study that is part of the IDEA Part C program; program data is available since 2006 at . IDEA Part C Table 2 2012 is a cross-sectional universe report that collected counts of infants and toddlers with disabilities in each state who (a) are served under IDEA Part C, (b) are served in different program settings, and (c) exit Part C because of program completion or for other reasons. States submitted the report in spreadsheet form by mail or electronically by e-mail. Key statistics produced from IDEA Part C Table 2 2012 provide insights on the demographics of children served under IDEA Part C, service settings, referral to preschool or other services, and personnel providing early intervention services.',\n",
       " 'attribution': 'IDEA Part C Section 618 Table 2 Program Settings, 2012 (https://catalog.data.gov/dataset/000201bb-1991-4165-aef5-b4f3510dc744) is licensed under CC0 1.0 (https://creativecommons.org/publicdomain/zero/1.0/)',\n",
       " 'publisher': 'Office of Special Education Programs',\n",
       " 'tags': '[\"early-intervention-services\",\"education-of-individuals-with-disabilities\",\"idea-part-c\",\"infants-and-toddlers\"]',\n",
       " 'data_organization': 'Department of Education',\n",
       " 'filename': '31a14619b98cf1e7897bea04bf356bc2fe47d28afadeb61187e1dce4a2f8f61a.text.csv',\n",
       " 'col_semantics': \"['year', 'state', 'area', 'rank', 'area', 'rank', 'area', 'age', 'age', 'age', 'age', 'depth', 'depth', 'sales', 'age', 'family', 'area', 'age', 'area', 'age', 'location', 'area', 'rank', 'age', 'weight', 'age', 'age', 'status', 'status', 'area', 'age', 'age', 'age', 'status']\",\n",
       " 'col_names': \"['Year', 'State', 'Setting', 'Birth to 1', ' 1 to 2 ', '2 to 3', 'Birth thru 2 - Total', '3 to 4', ' 4 to 5', '5 or older', ' 3 or older -  Total', 'Birth thru 2 - HI', 'Birth thru 2 - AM', 'Birth thru 2 - AS', 'Birth thru 2 - BL', 'Birth thru 2 - PI', ' Birth thru 2 -  WH', ' Birth thru 2 - MU', ' Birth thru 2 - RE Total', '3 or Older - HI', ' 3 or Older - AM', ' 3 or Older - AS', '3 or Older - BL', '3 or Older  - PI', '3 or Older - WH', '3 or Older - MU', '3 or Older - RE Total', 'Birth thru 2 - Male', 'Birth thru 2 - Female', 'Birth thru 2 - Gender Total', '3 or Older - Male', '3 or Older - Female', '3 or Older - Gender Total', 'Cumulative Count - Ages Birth through 2']\",\n",
       " 'col_semantics_s10': \"['year', 'state', 'area', 'rank', 'area', 'rank', 'area', 'age', 'age', 'age', 'age', 'depth', 'depth', 'sales', 'age', 'family', 'area', 'age', 'area', 'age', 'location', 'area', 'rank', 'age', 'weight', 'age', 'age', 'status', 'status', 'area', 'age', 'age', 'age', 'status']\",\n",
       " 'col_semantics_s20': \"['year', 'state', 'area', 'rank', 'area', 'rank', 'area', 'age', 'age', 'age', 'age', 'depth', 'sales', 'age', 'family', 'area', 'age', 'area', 'age', 'location', 'area', 'rank', 'age', 'weight', 'age', 'age', 'status', 'status', 'area', 'age', 'age', 'age', 'status']\",\n",
       " 'col_semantics_s30': \"['year', 'state', 'area', 'rank', 'area', 'rank', 'area', 'age', 'age', 'age', 'age', 'depth', 'age', 'area', 'age', 'area', 'age', 'location', 'area', 'rank', 'age', 'age', 'age', 'status', 'status', 'area', 'age', 'age', 'age', 'status']\",\n",
       " 'col_semantics_s40': \"['year', 'state', 'area', 'rank', 'area', 'rank', 'area', 'age', 'age', 'age', 'age', 'age', 'area', 'age', 'area', 'rank', 'age', 'age', 'status', 'area', 'age', 'age', 'status']\",\n",
       " 'col_semantics_s50': \"['state', 'area', 'rank', 'area', 'age', 'age', 'age', 'age', 'area', 'age', 'age', 'status', 'area']\",\n",
       " 'col_semantics_s60': \"['state', 'area', 'rank', 'area', 'age', 'age', 'age', 'age', 'area', 'age', 'age', 'status', 'area']\",\n",
       " 'col_semantics_s70': \"['area', 'rank', 'area', 'area', 'age', 'status', 'area']\",\n",
       " 'col_semantics_s80': \"['area', 'rank', 'area', 'area', 'area']\",\n",
       " 'col_semantics_s90': \"['area', 'area', 'area', 'area']\",\n",
       " 'col_semantics_s95': '[]',\n",
       " 'col_semantics_s98': '[]',\n",
       " 'col_semantics_s99': '[]',\n",
       " 'col_types': \"[dtype('O'), dtype('O'), dtype('O'), dtype('O'), dtype('O'), dtype('O'), dtype('O'), dtype('O'), dtype('O'), dtype('O'), dtype('O'), dtype('O'), dtype('O'), dtype('O'), dtype('O'), dtype('O'), dtype('O'), dtype('O'), dtype('O'), dtype('O'), dtype('O'), dtype('O'), dtype('O'), dtype('O'), dtype('O'), dtype('O'), dtype('O'), dtype('O'), dtype('O'), dtype('O'), dtype('O'), dtype('O'), dtype('O'), dtype('O')]\",\n",
       " 'col_len': '[4.3162, 10.0344, 11.2268, 2.0893, 2.4502, 2.6632, 2.8247, 1.11, 1.0412, 1.0412, 1.11, 2.1271, 1.3505, 1.622, 2.0378, 1.2337, 2.5395, 1.811, 2.8247, 1.0687, 1.0412, 1.0515, 1.0825, 1.0412, 1.0619, 1.079, 1.11, 1.5945, 1.5601, 1.6254, 1.0584, 1.0584, 1.0653, 1.4674]',\n",
       " 'col_scores': '[0.4587, 0.6141, 0.434, 0.4079, 0.9014, 0.8384, 0.9245, 0.6441, 0.6656, 0.6656, 0.6441, 0.3778, 0.1727, 0.2875, 0.4744, 0.2591, 0.399, 0.3812, 0.9245, 0.7677, 0.3002, 0.4234, 0.4364, 0.4055, 0.2603, 0.3218, 0.6441, 0.3647, 0.7371, 0.9362, 0.3564, 0.4779, 0.4046, 0.4317]',\n",
       " 'col_completeness': '[1.0, 0.9828, 0.9794, 0.9794, 0.9794, 0.9794, 0.9794, 0.9794, 0.9794, 0.9794, 0.9794, 0.9794, 0.9794, 0.9794, 0.9794, 0.9794, 0.9794, 0.9794, 0.9794, 0.9794, 0.9794, 0.9794, 0.9794, 0.9794, 0.9794, 0.9794, 0.9794, 0.9794, 0.9794, 0.9794, 0.9794, 0.9794, 0.9794, 0.9794]',\n",
       " 'id': '000201bb-1991-4165-aef5-b4f3510dc744'}"
      ]
     },
     "execution_count": 21,
     "metadata": {},
     "output_type": "execute_result"
    }
   ],
   "source": [
    "metadata_df['id'] = metadata_df.index\n",
    "metadata_dict_df = metadata_df.to_dict('records')\n",
    "metadata_dict_df[0]"
   ]
  },
  {
   "cell_type": "markdown",
   "id": "af66a31b",
   "metadata": {},
   "source": [
    "### define methods to convert dataframe to a generator"
   ]
  },
  {
   "cell_type": "code",
   "execution_count": 22,
   "id": "acd92142",
   "metadata": {},
   "outputs": [],
   "source": [
    "def generator(df):\n",
    "    \"\"\"\n",
    "        Create a generator based on the metadata for ingestion to Elastic Search\n",
    "        Input: \n",
    "            df: dataset to be ingested to ElasticSearch\n",
    "        Output: a generator for the dataset\n",
    "    \"\"\"\n",
    "    for c, line in enumerate(df):\n",
    "        yield {\n",
    "            '_index' : INDEX_NAME,\n",
    "            '_type' : '_doc',\n",
    "            '_id': line.get('id', None),\n",
    "            '_source': {\n",
    "                'title': line.get('title',''),\n",
    "                'description': line.get('description',''),\n",
    "                'attribution': line.get('attribution',''),\n",
    "                'publisher': line.get('publisher',''),\n",
    "                'tags': line.get('tags',''),\n",
    "                'data_organization': line.get('data_organization',''),\n",
    "                'filename': line.get('filename',''),\n",
    "                'col_semantics': line.get('col_semantics',''),\n",
    "                'col_semantics_s10': line.get('col_semantics_s10',''),\n",
    "                'col_semantics_s20': line.get('col_semantics_s20',''),\n",
    "                'col_semantics_s30': line.get('col_semantics_s30',''),\n",
    "                'col_semantics_s40': line.get('col_semantics_s40',''),\n",
    "                'col_semantics_s50': line.get('col_semantics_s50',''),\n",
    "                'col_semantics_s60': line.get('col_semantics_s60',''),\n",
    "                'col_semantics_s70': line.get('col_semantics_s70',''),\n",
    "                'col_semantics_s80': line.get('col_semantics_s80',''),\n",
    "                'col_semantics_s90': line.get('col_semantics_s90',''),\n",
    "                'col_semantics_s95': line.get('col_semantics_s95',''),\n",
    "                'col_semantics_s98': line.get('col_semantics_s98',''),\n",
    "                'col_semantics_s99': line.get('col_semantics_s99',''),\n",
    "                'col_names': line.get('col_names',''),\n",
    "                'col_types': line.get('col_types',''),\n",
    "                'col_len': line.get('col_len',''),\n",
    "                'col_scores': line.get('col_scores',''),\n",
    "                'col_completeness': line.get('col_completeness','')\n",
    "            }\n",
    "        }    \n",
    "        \n",
    "metadata_gen = generator(metadata_dict_df)"
   ]
  },
  {
   "cell_type": "markdown",
   "id": "91913e2d",
   "metadata": {},
   "source": [
    "#### Checkpoint"
   ]
  },
  {
   "cell_type": "code",
   "execution_count": 23,
   "id": "464c98bd",
   "metadata": {},
   "outputs": [
    {
     "data": {
      "text/plain": [
       "{'_index': 'datagov-all-csv-scores-test',\n",
       " '_type': '_doc',\n",
       " '_id': '000201bb-1991-4165-aef5-b4f3510dc744',\n",
       " '_source': {'title': 'IDEA Part C Section 618 Table 2 Program Settings, 2012',\n",
       "  'description': 'IDEA Part C Section 618 Table 2 Program Settings, 2012 (IDEA Part C Table 2 2012), is a study that is part of the IDEA Part C program; program data is available since 2006 at . IDEA Part C Table 2 2012 is a cross-sectional universe report that collected counts of infants and toddlers with disabilities in each state who (a) are served under IDEA Part C, (b) are served in different program settings, and (c) exit Part C because of program completion or for other reasons. States submitted the report in spreadsheet form by mail or electronically by e-mail. Key statistics produced from IDEA Part C Table 2 2012 provide insights on the demographics of children served under IDEA Part C, service settings, referral to preschool or other services, and personnel providing early intervention services.',\n",
       "  'attribution': 'IDEA Part C Section 618 Table 2 Program Settings, 2012 (https://catalog.data.gov/dataset/000201bb-1991-4165-aef5-b4f3510dc744) is licensed under CC0 1.0 (https://creativecommons.org/publicdomain/zero/1.0/)',\n",
       "  'publisher': 'Office of Special Education Programs',\n",
       "  'tags': '[\"early-intervention-services\",\"education-of-individuals-with-disabilities\",\"idea-part-c\",\"infants-and-toddlers\"]',\n",
       "  'data_organization': 'Department of Education',\n",
       "  'filename': '31a14619b98cf1e7897bea04bf356bc2fe47d28afadeb61187e1dce4a2f8f61a.text.csv',\n",
       "  'col_semantics': \"['year', 'state', 'area', 'rank', 'area', 'rank', 'area', 'age', 'age', 'age', 'age', 'depth', 'depth', 'sales', 'age', 'family', 'area', 'age', 'area', 'age', 'location', 'area', 'rank', 'age', 'weight', 'age', 'age', 'status', 'status', 'area', 'age', 'age', 'age', 'status']\",\n",
       "  'col_semantics_s10': \"['year', 'state', 'area', 'rank', 'area', 'rank', 'area', 'age', 'age', 'age', 'age', 'depth', 'depth', 'sales', 'age', 'family', 'area', 'age', 'area', 'age', 'location', 'area', 'rank', 'age', 'weight', 'age', 'age', 'status', 'status', 'area', 'age', 'age', 'age', 'status']\",\n",
       "  'col_semantics_s20': \"['year', 'state', 'area', 'rank', 'area', 'rank', 'area', 'age', 'age', 'age', 'age', 'depth', 'sales', 'age', 'family', 'area', 'age', 'area', 'age', 'location', 'area', 'rank', 'age', 'weight', 'age', 'age', 'status', 'status', 'area', 'age', 'age', 'age', 'status']\",\n",
       "  'col_semantics_s30': \"['year', 'state', 'area', 'rank', 'area', 'rank', 'area', 'age', 'age', 'age', 'age', 'depth', 'age', 'area', 'age', 'area', 'age', 'location', 'area', 'rank', 'age', 'age', 'age', 'status', 'status', 'area', 'age', 'age', 'age', 'status']\",\n",
       "  'col_semantics_s40': \"['year', 'state', 'area', 'rank', 'area', 'rank', 'area', 'age', 'age', 'age', 'age', 'age', 'area', 'age', 'area', 'rank', 'age', 'age', 'status', 'area', 'age', 'age', 'status']\",\n",
       "  'col_semantics_s50': \"['state', 'area', 'rank', 'area', 'age', 'age', 'age', 'age', 'area', 'age', 'age', 'status', 'area']\",\n",
       "  'col_semantics_s60': \"['state', 'area', 'rank', 'area', 'age', 'age', 'age', 'age', 'area', 'age', 'age', 'status', 'area']\",\n",
       "  'col_semantics_s70': \"['area', 'rank', 'area', 'area', 'age', 'status', 'area']\",\n",
       "  'col_semantics_s80': \"['area', 'rank', 'area', 'area', 'area']\",\n",
       "  'col_semantics_s90': \"['area', 'area', 'area', 'area']\",\n",
       "  'col_semantics_s95': '[]',\n",
       "  'col_semantics_s98': '[]',\n",
       "  'col_semantics_s99': '[]',\n",
       "  'col_names': \"['Year', 'State', 'Setting', 'Birth to 1', ' 1 to 2 ', '2 to 3', 'Birth thru 2 - Total', '3 to 4', ' 4 to 5', '5 or older', ' 3 or older -  Total', 'Birth thru 2 - HI', 'Birth thru 2 - AM', 'Birth thru 2 - AS', 'Birth thru 2 - BL', 'Birth thru 2 - PI', ' Birth thru 2 -  WH', ' Birth thru 2 - MU', ' Birth thru 2 - RE Total', '3 or Older - HI', ' 3 or Older - AM', ' 3 or Older - AS', '3 or Older - BL', '3 or Older  - PI', '3 or Older - WH', '3 or Older - MU', '3 or Older - RE Total', 'Birth thru 2 - Male', 'Birth thru 2 - Female', 'Birth thru 2 - Gender Total', '3 or Older - Male', '3 or Older - Female', '3 or Older - Gender Total', 'Cumulative Count - Ages Birth through 2']\",\n",
       "  'col_types': \"[dtype('O'), dtype('O'), dtype('O'), dtype('O'), dtype('O'), dtype('O'), dtype('O'), dtype('O'), dtype('O'), dtype('O'), dtype('O'), dtype('O'), dtype('O'), dtype('O'), dtype('O'), dtype('O'), dtype('O'), dtype('O'), dtype('O'), dtype('O'), dtype('O'), dtype('O'), dtype('O'), dtype('O'), dtype('O'), dtype('O'), dtype('O'), dtype('O'), dtype('O'), dtype('O'), dtype('O'), dtype('O'), dtype('O'), dtype('O')]\",\n",
       "  'col_len': '[4.3162, 10.0344, 11.2268, 2.0893, 2.4502, 2.6632, 2.8247, 1.11, 1.0412, 1.0412, 1.11, 2.1271, 1.3505, 1.622, 2.0378, 1.2337, 2.5395, 1.811, 2.8247, 1.0687, 1.0412, 1.0515, 1.0825, 1.0412, 1.0619, 1.079, 1.11, 1.5945, 1.5601, 1.6254, 1.0584, 1.0584, 1.0653, 1.4674]',\n",
       "  'col_scores': '[0.4587, 0.6141, 0.434, 0.4079, 0.9014, 0.8384, 0.9245, 0.6441, 0.6656, 0.6656, 0.6441, 0.3778, 0.1727, 0.2875, 0.4744, 0.2591, 0.399, 0.3812, 0.9245, 0.7677, 0.3002, 0.4234, 0.4364, 0.4055, 0.2603, 0.3218, 0.6441, 0.3647, 0.7371, 0.9362, 0.3564, 0.4779, 0.4046, 0.4317]',\n",
       "  'col_completeness': '[1.0, 0.9828, 0.9794, 0.9794, 0.9794, 0.9794, 0.9794, 0.9794, 0.9794, 0.9794, 0.9794, 0.9794, 0.9794, 0.9794, 0.9794, 0.9794, 0.9794, 0.9794, 0.9794, 0.9794, 0.9794, 0.9794, 0.9794, 0.9794, 0.9794, 0.9794, 0.9794, 0.9794, 0.9794, 0.9794, 0.9794, 0.9794, 0.9794, 0.9794]'}}"
      ]
     },
     "execution_count": 23,
     "metadata": {},
     "output_type": "execute_result"
    }
   ],
   "source": [
    "# CHECK\n",
    "next(metadata_gen)"
   ]
  },
  {
   "cell_type": "markdown",
   "id": "e5ff4012",
   "metadata": {},
   "source": [
    "### start ingestion with the use of BulkAPI and generator"
   ]
  },
  {
   "cell_type": "code",
   "execution_count": 24,
   "id": "de32f458",
   "metadata": {},
   "outputs": [
    {
     "name": "stderr",
     "output_type": "stream",
     "text": [
      "/Users/mmargaret/opt/anaconda3/lib/python3.9/site-packages/elasticsearch/connection/base.py:200: ElasticsearchWarning: [types removal] Specifying types in bulk requests is deprecated.\n",
      "  warnings.warn(message, category=ElasticsearchWarning)\n"
     ]
    },
    {
     "name": "stdout",
     "output_type": "stream",
     "text": [
      "working\n"
     ]
    }
   ],
   "source": [
    "from elasticsearch import helpers\n",
    "\n",
    "try:\n",
    "    res = helpers.bulk(es_client, generator(metadata_dict_df))\n",
    "    print ('working')\n",
    "    \n",
    "except Exception as e:\n",
    "    print(e)\n"
   ]
  }
 ],
 "metadata": {
  "kernelspec": {
   "display_name": "Python 3 (ipykernel)",
   "language": "python",
   "name": "python3"
  },
  "language_info": {
   "codemirror_mode": {
    "name": "ipython",
    "version": 3
   },
   "file_extension": ".py",
   "mimetype": "text/x-python",
   "name": "python",
   "nbconvert_exporter": "python",
   "pygments_lexer": "ipython3",
   "version": "3.9.7"
  }
 },
 "nbformat": 4,
 "nbformat_minor": 5
}
